{
  "cells": [
    {
      "cell_type": "markdown",
      "metadata": {
        "id": "view-in-github",
        "colab_type": "text"
      },
      "source": [
        "<a href=\"https://colab.research.google.com/github/travislatchman/Neuroimage-Registration-and-Synthesis/blob/main/Registration.ipynb\" target=\"_parent\"><img src=\"https://colab.research.google.com/assets/colab-badge.svg\" alt=\"Open In Colab\"/></a>"
      ]
    },
    {
      "cell_type": "markdown",
      "source": [
        "# Package Dependencies Installation"
      ],
      "metadata": {
        "id": "EvnormidVYb0"
      }
    },
    {
      "cell_type": "code",
      "execution_count": null,
      "metadata": {
        "colab": {
          "base_uri": "https://localhost:8080/"
        },
        "id": "e7h_zP3SmrHR",
        "outputId": "6021a73a-d3c8-4e16-c107-3e2f8a937137"
      },
      "outputs": [
        {
          "name": "stdout",
          "output_type": "stream",
          "text": [
            "Looking in indexes: https://pypi.org/simple, https://us-python.pkg.dev/colab-wheels/public/simple/\n",
            "Collecting nilearn\n",
            "  Downloading nilearn-0.10.1-py3-none-any.whl (10.3 MB)\n",
            "\u001b[2K     \u001b[90m━━━━━━━━━━━━━━━━━━━━━━━━━━━━━━━━━━━━━━━━\u001b[0m \u001b[32m10.3/10.3 MB\u001b[0m \u001b[31m64.2 MB/s\u001b[0m eta \u001b[36m0:00:00\u001b[0m\n",
            "\u001b[?25hRequirement already satisfied: joblib>=1.0.0 in /usr/local/lib/python3.10/dist-packages (from nilearn) (1.2.0)\n",
            "Requirement already satisfied: lxml in /usr/local/lib/python3.10/dist-packages (from nilearn) (4.9.2)\n",
            "Collecting nibabel>=3.2.0 (from nilearn)\n",
            "  Downloading nibabel-5.1.0-py3-none-any.whl (3.3 MB)\n",
            "\u001b[2K     \u001b[90m━━━━━━━━━━━━━━━━━━━━━━━━━━━━━━━━━━━━━━━━\u001b[0m \u001b[32m3.3/3.3 MB\u001b[0m \u001b[31m91.3 MB/s\u001b[0m eta \u001b[36m0:00:00\u001b[0m\n",
            "\u001b[?25hRequirement already satisfied: numpy>=1.19.0 in /usr/local/lib/python3.10/dist-packages (from nilearn) (1.22.4)\n",
            "Requirement already satisfied: packaging in /usr/local/lib/python3.10/dist-packages (from nilearn) (23.1)\n",
            "Requirement already satisfied: pandas>=1.1.5 in /usr/local/lib/python3.10/dist-packages (from nilearn) (1.5.3)\n",
            "Requirement already satisfied: requests>=2.25.0 in /usr/local/lib/python3.10/dist-packages (from nilearn) (2.27.1)\n",
            "Requirement already satisfied: scikit-learn>=1.0.0 in /usr/local/lib/python3.10/dist-packages (from nilearn) (1.2.2)\n",
            "Requirement already satisfied: scipy>=1.6.0 in /usr/local/lib/python3.10/dist-packages (from nilearn) (1.10.1)\n",
            "Requirement already satisfied: python-dateutil>=2.8.1 in /usr/local/lib/python3.10/dist-packages (from pandas>=1.1.5->nilearn) (2.8.2)\n",
            "Requirement already satisfied: pytz>=2020.1 in /usr/local/lib/python3.10/dist-packages (from pandas>=1.1.5->nilearn) (2022.7.1)\n",
            "Requirement already satisfied: urllib3<1.27,>=1.21.1 in /usr/local/lib/python3.10/dist-packages (from requests>=2.25.0->nilearn) (1.26.15)\n",
            "Requirement already satisfied: certifi>=2017.4.17 in /usr/local/lib/python3.10/dist-packages (from requests>=2.25.0->nilearn) (2022.12.7)\n",
            "Requirement already satisfied: charset-normalizer~=2.0.0 in /usr/local/lib/python3.10/dist-packages (from requests>=2.25.0->nilearn) (2.0.12)\n",
            "Requirement already satisfied: idna<4,>=2.5 in /usr/local/lib/python3.10/dist-packages (from requests>=2.25.0->nilearn) (3.4)\n",
            "Requirement already satisfied: threadpoolctl>=2.0.0 in /usr/local/lib/python3.10/dist-packages (from scikit-learn>=1.0.0->nilearn) (3.1.0)\n",
            "Requirement already satisfied: six>=1.5 in /usr/local/lib/python3.10/dist-packages (from python-dateutil>=2.8.1->pandas>=1.1.5->nilearn) (1.16.0)\n",
            "Installing collected packages: nibabel, nilearn\n",
            "  Attempting uninstall: nibabel\n",
            "    Found existing installation: nibabel 3.0.2\n",
            "    Uninstalling nibabel-3.0.2:\n",
            "      Successfully uninstalled nibabel-3.0.2\n",
            "Successfully installed nibabel-5.1.0 nilearn-0.10.1\n",
            "Looking in indexes: https://pypi.org/simple, https://us-python.pkg.dev/colab-wheels/public/simple/\n",
            "Requirement already satisfied: nibabel in /usr/local/lib/python3.10/dist-packages (5.1.0)\n",
            "Requirement already satisfied: numpy>=1.19 in /usr/local/lib/python3.10/dist-packages (from nibabel) (1.22.4)\n",
            "Requirement already satisfied: packaging>=17 in /usr/local/lib/python3.10/dist-packages (from nibabel) (23.1)\n"
          ]
        }
      ],
      "source": [
        "!pip install nilearn\n",
        "!pip install nibabel\n"
      ]
    },
    {
      "cell_type": "code",
      "execution_count": null,
      "metadata": {
        "colab": {
          "base_uri": "https://localhost:8080/"
        },
        "id": "FQLfGBWemS-u",
        "outputId": "436a630b-f29d-441e-c1db-d2ce9ade2c15"
      },
      "outputs": [
        {
          "name": "stdout",
          "output_type": "stream",
          "text": [
            "Looking in indexes: https://pypi.org/simple, https://us-python.pkg.dev/colab-wheels/public/simple/\n",
            "Collecting antspyx\n",
            "  Downloading antspyx-0.3.8-cp310-cp310-manylinux_2_17_x86_64.manylinux2014_x86_64.whl (326.3 MB)\n",
            "\u001b[2K     \u001b[90m━━━━━━━━━━━━━━━━━━━━━━━━━━━━━━━━━━━━━━━\u001b[0m \u001b[32m326.3/326.3 MB\u001b[0m \u001b[31m4.4 MB/s\u001b[0m eta \u001b[36m0:00:00\u001b[0m\n",
            "\u001b[?25hRequirement already satisfied: pandas in /usr/local/lib/python3.10/dist-packages (from antspyx) (1.5.3)\n",
            "Requirement already satisfied: numpy in /usr/local/lib/python3.10/dist-packages (from antspyx) (1.22.4)\n",
            "Requirement already satisfied: scipy in /usr/local/lib/python3.10/dist-packages (from antspyx) (1.10.1)\n",
            "Requirement already satisfied: scikit-image in /usr/local/lib/python3.10/dist-packages (from antspyx) (0.19.3)\n",
            "Requirement already satisfied: scikit-learn in /usr/local/lib/python3.10/dist-packages (from antspyx) (1.2.2)\n",
            "Requirement already satisfied: statsmodels in /usr/local/lib/python3.10/dist-packages (from antspyx) (0.13.5)\n",
            "Requirement already satisfied: webcolors in /usr/local/lib/python3.10/dist-packages (from antspyx) (1.13)\n",
            "Requirement already satisfied: matplotlib in /usr/local/lib/python3.10/dist-packages (from antspyx) (3.7.1)\n",
            "Requirement already satisfied: pyyaml in /usr/local/lib/python3.10/dist-packages (from antspyx) (6.0)\n",
            "Collecting chart-studio (from antspyx)\n",
            "  Downloading chart_studio-1.1.0-py3-none-any.whl (64 kB)\n",
            "\u001b[2K     \u001b[90m━━━━━━━━━━━━━━━━━━━━━━━━━━━━━━━━━━━━━━━━\u001b[0m \u001b[32m64.4/64.4 kB\u001b[0m \u001b[31m8.4 MB/s\u001b[0m eta \u001b[36m0:00:00\u001b[0m\n",
            "\u001b[?25hRequirement already satisfied: Pillow in /usr/local/lib/python3.10/dist-packages (from antspyx) (8.4.0)\n",
            "Requirement already satisfied: nibabel in /usr/local/lib/python3.10/dist-packages (from antspyx) (5.1.0)\n",
            "Requirement already satisfied: plotly in /usr/local/lib/python3.10/dist-packages (from chart-studio->antspyx) (5.13.1)\n",
            "Requirement already satisfied: requests in /usr/local/lib/python3.10/dist-packages (from chart-studio->antspyx) (2.27.1)\n",
            "Collecting retrying>=1.3.3 (from chart-studio->antspyx)\n",
            "  Downloading retrying-1.3.4-py3-none-any.whl (11 kB)\n",
            "Requirement already satisfied: six in /usr/local/lib/python3.10/dist-packages (from chart-studio->antspyx) (1.16.0)\n",
            "Requirement already satisfied: contourpy>=1.0.1 in /usr/local/lib/python3.10/dist-packages (from matplotlib->antspyx) (1.0.7)\n",
            "Requirement already satisfied: cycler>=0.10 in /usr/local/lib/python3.10/dist-packages (from matplotlib->antspyx) (0.11.0)\n",
            "Requirement already satisfied: fonttools>=4.22.0 in /usr/local/lib/python3.10/dist-packages (from matplotlib->antspyx) (4.39.3)\n",
            "Requirement already satisfied: kiwisolver>=1.0.1 in /usr/local/lib/python3.10/dist-packages (from matplotlib->antspyx) (1.4.4)\n",
            "Requirement already satisfied: packaging>=20.0 in /usr/local/lib/python3.10/dist-packages (from matplotlib->antspyx) (23.1)\n",
            "Requirement already satisfied: pyparsing>=2.3.1 in /usr/local/lib/python3.10/dist-packages (from matplotlib->antspyx) (3.0.9)\n",
            "Requirement already satisfied: python-dateutil>=2.7 in /usr/local/lib/python3.10/dist-packages (from matplotlib->antspyx) (2.8.2)\n",
            "Requirement already satisfied: pytz>=2020.1 in /usr/local/lib/python3.10/dist-packages (from pandas->antspyx) (2022.7.1)\n",
            "Requirement already satisfied: networkx>=2.2 in /usr/local/lib/python3.10/dist-packages (from scikit-image->antspyx) (3.1)\n",
            "Requirement already satisfied: imageio>=2.4.1 in /usr/local/lib/python3.10/dist-packages (from scikit-image->antspyx) (2.25.1)\n",
            "Requirement already satisfied: tifffile>=2019.7.26 in /usr/local/lib/python3.10/dist-packages (from scikit-image->antspyx) (2023.4.12)\n",
            "Requirement already satisfied: PyWavelets>=1.1.1 in /usr/local/lib/python3.10/dist-packages (from scikit-image->antspyx) (1.4.1)\n",
            "Requirement already satisfied: joblib>=1.1.1 in /usr/local/lib/python3.10/dist-packages (from scikit-learn->antspyx) (1.2.0)\n",
            "Requirement already satisfied: threadpoolctl>=2.0.0 in /usr/local/lib/python3.10/dist-packages (from scikit-learn->antspyx) (3.1.0)\n",
            "Requirement already satisfied: patsy>=0.5.2 in /usr/local/lib/python3.10/dist-packages (from statsmodels->antspyx) (0.5.3)\n",
            "Requirement already satisfied: tenacity>=6.2.0 in /usr/local/lib/python3.10/dist-packages (from plotly->chart-studio->antspyx) (8.2.2)\n",
            "Requirement already satisfied: urllib3<1.27,>=1.21.1 in /usr/local/lib/python3.10/dist-packages (from requests->chart-studio->antspyx) (1.26.15)\n",
            "Requirement already satisfied: certifi>=2017.4.17 in /usr/local/lib/python3.10/dist-packages (from requests->chart-studio->antspyx) (2022.12.7)\n",
            "Requirement already satisfied: charset-normalizer~=2.0.0 in /usr/local/lib/python3.10/dist-packages (from requests->chart-studio->antspyx) (2.0.12)\n",
            "Requirement already satisfied: idna<4,>=2.5 in /usr/local/lib/python3.10/dist-packages (from requests->chart-studio->antspyx) (3.4)\n",
            "Installing collected packages: retrying, chart-studio, antspyx\n",
            "Successfully installed antspyx-0.3.8 chart-studio-1.1.0 retrying-1.3.4\n"
          ]
        }
      ],
      "source": [
        "!pip install antspyx\n"
      ]
    },
    {
      "cell_type": "code",
      "execution_count": null,
      "metadata": {
        "id": "gaB2R2dkmxZH"
      },
      "outputs": [],
      "source": [
        "import os\n",
        "import nibabel as nib\n",
        "import matplotlib.pyplot as plt\n",
        "from nilearn import plotting\n",
        "import ants"
      ]
    },
    {
      "cell_type": "code",
      "execution_count": null,
      "metadata": {
        "colab": {
          "base_uri": "https://localhost:8080/"
        },
        "id": "BlWly1uj1-Cr",
        "outputId": "1d789dc2-e9f0-4342-e8d1-f1062aa9ea75"
      },
      "outputs": [
        {
          "name": "stdout",
          "output_type": "stream",
          "text": [
            "Mounted at /content/drive\n"
          ]
        }
      ],
      "source": [
        "from google.colab import drive\n",
        "drive.mount('/content/drive')"
      ]
    },
    {
      "cell_type": "code",
      "execution_count": null,
      "metadata": {
        "id": "cazOM6vT2bkJ"
      },
      "outputs": [],
      "source": [
        "input_dir = \"/content/drive/MyDrive/Project 2 Neuroimage Synthesis/MedIA_Project2_stripped\"\n",
        "output_dir = \"/content/drive/MyDrive/Project 2 Neuroimage Synthesis/MedIA_Project2_registered\""
      ]
    },
    {
      "cell_type": "code",
      "execution_count": null,
      "metadata": {
        "colab": {
          "base_uri": "https://localhost:8080/"
        },
        "id": "EcvjSg692Yzq",
        "outputId": "ea71805b-6d29-44ec-9c5d-9e296384d8b8"
      },
      "outputs": [
        {
          "name": "stdout",
          "output_type": "stream",
          "text": [
            "Directory exists!\n"
          ]
        }
      ],
      "source": [
        "if os.path.exists(input_dir):\n",
        "    print(\"Directory exists!\")\n",
        "else:\n",
        "    print(\"Directory does not exist!\")"
      ]
    },
    {
      "cell_type": "code",
      "execution_count": null,
      "metadata": {
        "colab": {
          "base_uri": "https://localhost:8080/"
        },
        "id": "qzSiTzI34wiV",
        "outputId": "3b592623-53dd-4381-939e-b7f09da29ee6"
      },
      "outputs": [
        {
          "name": "stdout",
          "output_type": "stream",
          "text": [
            "Directory exists!\n"
          ]
        }
      ],
      "source": [
        "if os.path.exists(output_dir):\n",
        "    print(\"Directory exists!\")\n",
        "else:\n",
        "    print(\"Directory does not exist!\")"
      ]
    },
    {
      "cell_type": "markdown",
      "source": [
        "# Registration"
      ],
      "metadata": {
        "id": "zNByad9SVU0I"
      }
    },
    {
      "cell_type": "code",
      "execution_count": null,
      "metadata": {
        "id": "SKysKIbjm23P"
      },
      "outputs": [],
      "source": [
        "for i in range(1, 201):\n",
        "    # skip patient 163, doesn't have a ADC file\n",
        "    if i == 163:\n",
        "      continue\n",
        "\n",
        "    patient_folder = f\"{i:03d}\"\n",
        "    input_folder = os.path.join(input_dir, patient_folder)\n",
        "    output_folder = os.path.join(output_dir, patient_folder)\n",
        "\n",
        "    # Load the skull-stripped images\n",
        "    t1w_img = ants.image_read(os.path.join(input_folder, \"T1w_1mm.nii.gz\"))\n",
        "    t2w_img = ants.image_read(os.path.join(input_folder, \"T2w_1mm_noalign.nii.gz\"))\n",
        "    fa_img = ants.image_read(os.path.join(input_folder, \"FA_deformed.nii.gz\"))\n",
        "    adc_img = ants.image_read(os.path.join(input_folder, \"ADC_deformed.nii.gz\"))\n",
        "\n",
        "    # Resample FA and ADC images to 1mm isotropic resolution\n",
        "    fa_img_resampled = ants.resample_image(fa_img, t1w_img.shape, use_voxels=True, interp_type=1)\n",
        "    adc_img_resampled = ants.resample_image(adc_img, t1w_img.shape, use_voxels=True, interp_type=1)\n",
        "\n",
        "    # Rigid registration of T2w, FA, and ADC images to T1w image\n",
        "    t2w_rigid = ants.registration(fixed=t1w_img, moving=t2w_img, type_of_transform=\"Rigid\")\n",
        "    fa_rigid = ants.registration(fixed=t1w_img, moving=fa_img_resampled, type_of_transform=\"Rigid\")\n",
        "    adc_rigid = ants.registration(fixed=t1w_img, moving=adc_img_resampled, type_of_transform=\"Rigid\")\n",
        "\n",
        "    t2w_rigid_img = t2w_rigid[\"warpedmovout\"]\n",
        "    fa_rigid_img = fa_rigid[\"warpedmovout\"]\n",
        "    adc_rigid_img = adc_rigid[\"warpedmovout\"]\n",
        "\n",
        "    # Non-rigid registration of FA and ADC images to T1w image\n",
        "    fa_nrigid = ants.registration(fixed=t1w_img, moving=fa_rigid_img, type_of_transform=\"SyN\")\n",
        "    adc_nrigid = ants.registration(fixed=t1w_img, moving=adc_rigid_img, type_of_transform=\"SyN\")\n",
        "\n",
        "    fa_nrigid_img = fa_nrigid[\"warpedmovout\"]\n",
        "    adc_nrigid_img = adc_nrigid[\"warpedmovout\"]\n",
        "\n",
        "    # Resample registered FA and ADC images back to 1.25mm isotropic resolution\n",
        "    fa_nrigid_img_125 = ants.resample_image(fa_nrigid_img, fa_img.shape, use_voxels=True, interp_type=1)\n",
        "    adc_nrigid_img_125 = ants.resample_image(adc_nrigid_img, adc_img.shape, use_voxels=True, interp_type=1)\n",
        "\n",
        "    # Create output directory and save the registered images\n",
        "    os.makedirs(output_folder, exist_ok=True)\n",
        "\n",
        "\n",
        "    ants.image_write(t1w_img, os.path.join(output_folder, \"T1w_1mm.nii.gz\"))\n",
        "    ants.image_write(t2w_rigid_img, os.path.join(output_folder, \"T2w_1mm_noalign.nii.gz\"))\n",
        "    ants.image_write(fa_nrigid_img_125, os.path.join(output_folder, \"FA_deformed.nii.gz\"))\n",
        "    ants.image_write(adc_nrigid_img_125, os.path.join(output_folder, \"ADC_deformed.nii.gz\"))\n"
      ]
    }
  ],
  "metadata": {
    "accelerator": "GPU",
    "colab": {
      "gpuType": "A100",
      "machine_shape": "hm",
      "provenance": [],
      "authorship_tag": "ABX9TyP/sO7w9YezuIY/avEi8Zwf",
      "include_colab_link": true
    },
    "gpuClass": "standard",
    "kernelspec": {
      "display_name": "Python 3",
      "name": "python3"
    },
    "language_info": {
      "name": "python",
      "version": "3.9.16"
    }
  },
  "nbformat": 4,
  "nbformat_minor": 0
}