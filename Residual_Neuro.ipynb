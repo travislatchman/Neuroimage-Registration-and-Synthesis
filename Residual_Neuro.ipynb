{
  "cells": [
    {
      "cell_type": "markdown",
      "metadata": {
        "id": "view-in-github",
        "colab_type": "text"
      },
      "source": [
        "<a href=\"https://colab.research.google.com/github/travislatchman/Neuroimage-Registration-and-Synthesis/blob/main/Residual_Neuro.ipynb\" target=\"_parent\"><img src=\"https://colab.research.google.com/assets/colab-badge.svg\" alt=\"Open In Colab\"/></a>"
      ]
    },
    {
      "cell_type": "markdown",
      "source": [
        "## Installation"
      ],
      "metadata": {
        "id": "Izs81XtnVj_J"
      }
    },
    {
      "cell_type": "code",
      "execution_count": null,
      "metadata": {
        "colab": {
          "base_uri": "https://localhost:8080/"
        },
        "id": "QW0EUVHtQOqt",
        "outputId": "5e64ac44-1fc4-4db4-938f-d6c1f3d0649b"
      },
      "outputs": [
        {
          "output_type": "stream",
          "name": "stdout",
          "text": [
            "Looking in indexes: https://pypi.org/simple, https://us-python.pkg.dev/colab-wheels/public/simple/\n",
            "Collecting nilearn\n",
            "  Downloading nilearn-0.10.1-py3-none-any.whl (10.3 MB)\n",
            "\u001b[2K     \u001b[90m━━━━━━━━━━━━━━━━━━━━━━━━━━━━━━━━━━━━━━━\u001b[0m \u001b[32m10.3/10.3 MB\u001b[0m \u001b[31m108.4 MB/s\u001b[0m eta \u001b[36m0:00:00\u001b[0m\n",
            "\u001b[?25hRequirement already satisfied: joblib>=1.0.0 in /usr/local/lib/python3.10/dist-packages (from nilearn) (1.2.0)\n",
            "Requirement already satisfied: lxml in /usr/local/lib/python3.10/dist-packages (from nilearn) (4.9.2)\n",
            "Collecting nibabel>=3.2.0 (from nilearn)\n",
            "  Downloading nibabel-5.1.0-py3-none-any.whl (3.3 MB)\n",
            "\u001b[2K     \u001b[90m━━━━━━━━━━━━━━━━━━━━━━━━━━━━━━━━━━━━━━━━\u001b[0m \u001b[32m3.3/3.3 MB\u001b[0m \u001b[31m101.8 MB/s\u001b[0m eta \u001b[36m0:00:00\u001b[0m\n",
            "\u001b[?25hRequirement already satisfied: numpy>=1.19.0 in /usr/local/lib/python3.10/dist-packages (from nilearn) (1.22.4)\n",
            "Requirement already satisfied: packaging in /usr/local/lib/python3.10/dist-packages (from nilearn) (23.1)\n",
            "Requirement already satisfied: pandas>=1.1.5 in /usr/local/lib/python3.10/dist-packages (from nilearn) (1.5.3)\n",
            "Requirement already satisfied: requests>=2.25.0 in /usr/local/lib/python3.10/dist-packages (from nilearn) (2.27.1)\n",
            "Requirement already satisfied: scikit-learn>=1.0.0 in /usr/local/lib/python3.10/dist-packages (from nilearn) (1.2.2)\n",
            "Requirement already satisfied: scipy>=1.6.0 in /usr/local/lib/python3.10/dist-packages (from nilearn) (1.10.1)\n",
            "Requirement already satisfied: python-dateutil>=2.8.1 in /usr/local/lib/python3.10/dist-packages (from pandas>=1.1.5->nilearn) (2.8.2)\n",
            "Requirement already satisfied: pytz>=2020.1 in /usr/local/lib/python3.10/dist-packages (from pandas>=1.1.5->nilearn) (2022.7.1)\n",
            "Requirement already satisfied: urllib3<1.27,>=1.21.1 in /usr/local/lib/python3.10/dist-packages (from requests>=2.25.0->nilearn) (1.26.15)\n",
            "Requirement already satisfied: certifi>=2017.4.17 in /usr/local/lib/python3.10/dist-packages (from requests>=2.25.0->nilearn) (2022.12.7)\n",
            "Requirement already satisfied: charset-normalizer~=2.0.0 in /usr/local/lib/python3.10/dist-packages (from requests>=2.25.0->nilearn) (2.0.12)\n",
            "Requirement already satisfied: idna<4,>=2.5 in /usr/local/lib/python3.10/dist-packages (from requests>=2.25.0->nilearn) (3.4)\n",
            "Requirement already satisfied: threadpoolctl>=2.0.0 in /usr/local/lib/python3.10/dist-packages (from scikit-learn>=1.0.0->nilearn) (3.1.0)\n",
            "Requirement already satisfied: six>=1.5 in /usr/local/lib/python3.10/dist-packages (from python-dateutil>=2.8.1->pandas>=1.1.5->nilearn) (1.16.0)\n",
            "Installing collected packages: nibabel, nilearn\n",
            "  Attempting uninstall: nibabel\n",
            "    Found existing installation: nibabel 3.0.2\n",
            "    Uninstalling nibabel-3.0.2:\n",
            "      Successfully uninstalled nibabel-3.0.2\n",
            "Successfully installed nibabel-5.1.0 nilearn-0.10.1\n",
            "Looking in indexes: https://pypi.org/simple, https://us-python.pkg.dev/colab-wheels/public/simple/\n",
            "Requirement already satisfied: nibabel in /usr/local/lib/python3.10/dist-packages (5.1.0)\n",
            "Requirement already satisfied: numpy>=1.19 in /usr/local/lib/python3.10/dist-packages (from nibabel) (1.22.4)\n",
            "Requirement already satisfied: packaging>=17 in /usr/local/lib/python3.10/dist-packages (from nibabel) (23.1)\n"
          ]
        }
      ],
      "source": [
        "!pip install nilearn\n",
        "!pip install nibabel"
      ]
    },
    {
      "cell_type": "code",
      "execution_count": null,
      "metadata": {
        "colab": {
          "base_uri": "https://localhost:8080/"
        },
        "id": "HBYSQ831xUwZ",
        "outputId": "ea826a4d-4f33-479a-f9b8-62ca48a10a29"
      },
      "outputs": [
        {
          "output_type": "stream",
          "name": "stdout",
          "text": [
            "Looking in indexes: https://pypi.org/simple, https://us-python.pkg.dev/colab-wheels/public/simple/\n",
            "Collecting torchviz\n",
            "  Downloading torchviz-0.0.2.tar.gz (4.9 kB)\n",
            "  Preparing metadata (setup.py) ... \u001b[?25l\u001b[?25hdone\n",
            "Requirement already satisfied: torch in /usr/local/lib/python3.10/dist-packages (from torchviz) (2.0.0+cu118)\n",
            "Requirement already satisfied: graphviz in /usr/local/lib/python3.10/dist-packages (from torchviz) (0.20.1)\n",
            "Requirement already satisfied: filelock in /usr/local/lib/python3.10/dist-packages (from torch->torchviz) (3.12.0)\n",
            "Requirement already satisfied: typing-extensions in /usr/local/lib/python3.10/dist-packages (from torch->torchviz) (4.5.0)\n",
            "Requirement already satisfied: sympy in /usr/local/lib/python3.10/dist-packages (from torch->torchviz) (1.11.1)\n",
            "Requirement already satisfied: networkx in /usr/local/lib/python3.10/dist-packages (from torch->torchviz) (3.1)\n",
            "Requirement already satisfied: jinja2 in /usr/local/lib/python3.10/dist-packages (from torch->torchviz) (3.1.2)\n",
            "Requirement already satisfied: triton==2.0.0 in /usr/local/lib/python3.10/dist-packages (from torch->torchviz) (2.0.0)\n",
            "Requirement already satisfied: cmake in /usr/local/lib/python3.10/dist-packages (from triton==2.0.0->torch->torchviz) (3.25.2)\n",
            "Requirement already satisfied: lit in /usr/local/lib/python3.10/dist-packages (from triton==2.0.0->torch->torchviz) (16.0.3)\n",
            "Requirement already satisfied: MarkupSafe>=2.0 in /usr/local/lib/python3.10/dist-packages (from jinja2->torch->torchviz) (2.1.2)\n",
            "Requirement already satisfied: mpmath>=0.19 in /usr/local/lib/python3.10/dist-packages (from sympy->torch->torchviz) (1.3.0)\n",
            "Building wheels for collected packages: torchviz\n",
            "  Building wheel for torchviz (setup.py) ... \u001b[?25l\u001b[?25hdone\n",
            "  Created wheel for torchviz: filename=torchviz-0.0.2-py3-none-any.whl size=4131 sha256=e25e9ff6fec8e111e9ae72a80e90a233393f06c6690db10cd40f409a3931e85e\n",
            "  Stored in directory: /root/.cache/pip/wheels/4c/97/88/a02973217949e0db0c9f4346d154085f4725f99c4f15a87094\n",
            "Successfully built torchviz\n",
            "Installing collected packages: torchviz\n",
            "Successfully installed torchviz-0.0.2\n",
            "Looking in indexes: https://pypi.org/simple, https://us-python.pkg.dev/colab-wheels/public/simple/\n",
            "Collecting onnx\n",
            "  Downloading onnx-1.14.0-cp310-cp310-manylinux_2_17_x86_64.manylinux2014_x86_64.whl (14.6 MB)\n",
            "\u001b[2K     \u001b[90m━━━━━━━━━━━━━━━━━━━━━━━━━━━━━━━━━━━━━━━━\u001b[0m \u001b[32m14.6/14.6 MB\u001b[0m \u001b[31m97.8 MB/s\u001b[0m eta \u001b[36m0:00:00\u001b[0m\n",
            "\u001b[?25hRequirement already satisfied: numpy in /usr/local/lib/python3.10/dist-packages (from onnx) (1.22.4)\n",
            "Requirement already satisfied: protobuf>=3.20.2 in /usr/local/lib/python3.10/dist-packages (from onnx) (3.20.3)\n",
            "Requirement already satisfied: typing-extensions>=3.6.2.1 in /usr/local/lib/python3.10/dist-packages (from onnx) (4.5.0)\n",
            "Installing collected packages: onnx\n",
            "Successfully installed onnx-1.14.0\n"
          ]
        }
      ],
      "source": [
        "!pip install torchviz\n",
        "!pip install onnx"
      ]
    },
    {
      "cell_type": "code",
      "execution_count": null,
      "metadata": {
        "id": "lpXCwqlIqWP5"
      },
      "outputs": [],
      "source": [
        "import os\n",
        "import torch\n",
        "import torch.nn as nn\n",
        "import torch.nn.functional as F\n",
        "import torch.optim as optim\n",
        "from torch.utils.data import Dataset\n",
        "from torch.utils.data import DataLoader\n",
        "from torchvision import transforms\n",
        "import nibabel as nib\n",
        "import numpy as np\n",
        "import matplotlib.pyplot as plt\n",
        "from skimage.metrics import mean_squared_error as mse, peak_signal_noise_ratio as psnr, structural_similarity as ssim\n",
        "import csv\n",
        "from torchviz import make_dot\n",
        "import torch.onnx\n",
        "import random\n",
        "import time\n",
        "import copy\n"
      ]
    },
    {
      "cell_type": "code",
      "execution_count": null,
      "metadata": {
        "colab": {
          "base_uri": "https://localhost:8080/"
        },
        "id": "_SsbKTHpQLMU",
        "outputId": "2f231569-caee-4d0f-ba64-ab8fbc2c6d5b"
      },
      "outputs": [
        {
          "output_type": "stream",
          "name": "stdout",
          "text": [
            "Mounted at /content/drive\n"
          ]
        }
      ],
      "source": [
        "from google.colab import drive\n",
        "drive.mount('/content/drive')"
      ]
    },
    {
      "cell_type": "code",
      "execution_count": null,
      "metadata": {
        "colab": {
          "base_uri": "https://localhost:8080/"
        },
        "id": "R_eHHYokbqGI",
        "outputId": "c69e48e4-980a-4474-ccf1-b14e97df28b9"
      },
      "outputs": [
        {
          "output_type": "execute_result",
          "data": {
            "text/plain": [
              "<torch._C.Generator at 0x7f7b8d8d2ed0>"
            ]
          },
          "metadata": {},
          "execution_count": 5
        }
      ],
      "source": [
        "seed = 42\n",
        "np.random.seed(seed)\n",
        "torch.manual_seed(seed)"
      ]
    },
    {
      "cell_type": "markdown",
      "metadata": {
        "id": "aR_ahDk4sLBi"
      },
      "source": [
        "## MedIA_Project2_registered folder"
      ]
    },
    {
      "cell_type": "code",
      "execution_count": null,
      "metadata": {
        "id": "446OARZCrVbz"
      },
      "outputs": [],
      "source": [
        "class MedIARegisteredDataset(Dataset):\n",
        "    \"\"\"\n",
        "    A class used to represent a Medical Image Analysis (MedIA) Registered Dataset.\n",
        "\n",
        "    ...\n",
        "\n",
        "    Attributes\n",
        "    ----------\n",
        "    root_dir : str\n",
        "        The path to the root directory containing the patient folders.\n",
        "    transform : callable, optional\n",
        "        An optional transform function to apply to the images.\n",
        "    patient_ids : list\n",
        "        A list of patient IDs used to identify the corresponding patient folders.\n",
        "\n",
        "    Methods\n",
        "    -------\n",
        "    __init__(self, root_dir, patient_ids, transform=None):\n",
        "        Initializes the MedIARegisteredDataset object.\n",
        "    __len__(self):\n",
        "        Returns the number of patients in the dataset.\n",
        "    __getitem__(self, idx):\n",
        "        Loads and returns a tuple of the input images (T1w and T2w) and target images (FA and ADC) for the patient\n",
        "        at the given index.\n",
        "    \"\"\"\n",
        "\n",
        "    def __init__(self, root_dir, patient_ids, transform=None):\n",
        "        \"\"\"\n",
        "        Parameters\n",
        "        ----------\n",
        "        root_dir : str\n",
        "            The path to the root directory containing the patient folders.\n",
        "        patient_ids : list\n",
        "            A list of patient IDs used to identify the corresponding patient folders.\n",
        "        transform : callable, optional\n",
        "            An optional transform function to apply to the images.\n",
        "        \"\"\"\n",
        "        self.root_dir = root_dir\n",
        "        self.transform = transform\n",
        "        self.patient_ids = patient_ids\n",
        "\n",
        "    def __len__(self):\n",
        "        \"\"\"\n",
        "        Determines the number of patients in the dataset.\n",
        "\n",
        "        Returns\n",
        "        -------\n",
        "        int\n",
        "            The number of patients in the dataset.\n",
        "        \"\"\"\n",
        "        return len(self.patient_ids)\n",
        "\n",
        "    def __getitem__(self, idx):\n",
        "        \"\"\"\n",
        "        Loads and returns a tuple of the input images (T1w and T2w) and target images (FA and ADC) for the patient\n",
        "        at the given index.\n",
        "\n",
        "        Parameters\n",
        "        ----------\n",
        "        idx : int\n",
        "            The index of the patient.\n",
        "\n",
        "        Returns\n",
        "        -------\n",
        "        tuple\n",
        "            A tuple containing two torch.Tensor objects:\n",
        "            - input_imgs: a torch.Tensor containing the stacked T1w and T2w images.\n",
        "            - target_imgs: a torch.Tensor containing the stacked FA and ADC images.\n",
        "        \"\"\"\n",
        "        patient_id = self.patient_ids[idx]\n",
        "        patient_folder = os.path.join(self.root_dir, patient_id)\n",
        "\n",
        "        # Load the input images (T1w and T2w)\n",
        "        t1w_path = os.path.join(patient_folder, 'T1w_1mm.nii.gz')\n",
        "        t2w_path = os.path.join(patient_folder, 'T2w_1mm_noalign.nii.gz')\n",
        "        t1w_img = nib.load(t1w_path).get_fdata()\n",
        "        t2w_img = nib.load(t2w_path).get_fdata()\n",
        "\n",
        "        # Stack the input images along the channel dimension\n",
        "        input_imgs = np.stack([t1w_img, t2w_img], axis=0)\n",
        "\n",
        "        # Load the target images (FA and ADC)\n",
        "        fa_path = os.path.join(patient_folder, 'FA_deformed.nii.gz')\n",
        "        adc_path = os.path.join(patient_folder, 'ADC_deformed.nii.gz')\n",
        "        fa_img = nib.load(fa_path).get_fdata()\n",
        "        adc_img = nib.load(adc_path).get_fdata()\n",
        "\n",
        "        # Stack the target images along the channel dimension\n",
        "        target_imgs = np.stack([fa_img, adc_img], axis=0)\n",
        "\n",
        "        if self.transform:\n",
        "            input_imgs, target_imgs = self.transform(input_imgs, target_imgs)\n",
        "\n",
        "        return torch.tensor(input_imgs).float(), torch.tensor(target_imgs).float()"
      ]
    },
    {
      "cell_type": "code",
      "execution_count": null,
      "metadata": {
        "id": "AOcyu8aozqIE"
      },
      "outputs": [],
      "source": [
        "#root_dir = r\"G:\\My Drive\\Project 2 Neuroimage Synthesis\\MedIA_Project2_registered\"\n",
        "root_dir = \"/content/drive/My Drive/Project 2 Neuroimage Synthesis/MedIA_Project2_registered\"\n",
        "\n",
        "# Define patient_ids here\n",
        "patient_ids = [f\"{i:03d}\" for i in range(1, 201) if i != 163]\n"
      ]
    },
    {
      "cell_type": "markdown",
      "metadata": {
        "id": "30f1s7ZBsnN2"
      },
      "source": [
        "## split the patient IDs into training, validation, and testing sets (80/10/10 split)"
      ]
    },
    {
      "cell_type": "code",
      "execution_count": null,
      "metadata": {
        "id": "wRWB5h_issZt"
      },
      "outputs": [],
      "source": [
        "# #patient_ids = [str(i).zfill(3) for i in range(1, 201) if i != 163]\n",
        "rng = np.random.default_rng(seed)\n",
        "rng.shuffle(patient_ids)\n",
        "\n",
        "train_size = int(0.8 * len(patient_ids))\n",
        "val_size = int(0.1 * len(patient_ids))\n",
        "test_size = len(patient_ids) - train_size - val_size\n",
        "\n",
        "train_ids = patient_ids[:train_size]\n",
        "val_ids = patient_ids[train_size:train_size+val_size]\n",
        "test_ids = patient_ids[train_size+val_size:]\n",
        "\n",
        "# separate instances of the dataset for each split\n",
        "train_dataset = MedIARegisteredDataset(root_dir, patient_ids=train_ids)\n",
        "val_dataset = MedIARegisteredDataset(root_dir, patient_ids=val_ids)\n",
        "test_dataset = MedIARegisteredDataset(root_dir, patient_ids=test_ids)\n",
        "\n",
        "# create data loaders for each dataset\n",
        "\n",
        "batch_size = 2\n",
        "\n",
        "train_loader = DataLoader(train_dataset, batch_size=batch_size, shuffle=True)\n",
        "val_loader = DataLoader(val_dataset, batch_size=batch_size, shuffle=False)\n",
        "test_loader = DataLoader(test_dataset, batch_size=batch_size, shuffle=False)\n"
      ]
    },
    {
      "cell_type": "markdown",
      "metadata": {
        "id": "YErk6lRVqiZk"
      },
      "source": [
        "## U-Net with Residual Blocks"
      ]
    },
    {
      "cell_type": "code",
      "execution_count": null,
      "metadata": {
        "id": "-5PnE4kQI9-5"
      },
      "outputs": [],
      "source": [
        "class ResidualBlock(nn.Module):\n",
        "    \"\"\"\n",
        "    Implements a Residual Block in the neural network architecture.\n",
        "    A Residual Block allows the model to learn an identity function\n",
        "    which improves the gradient flow and thus eases the training of deeper models.\n",
        "\n",
        "    Parameters\n",
        "    ----------\n",
        "    in_channels : int\n",
        "        Number of input channels to the residual block.\n",
        "    out_channels : int\n",
        "        Number of output channels from the residual block.\n",
        "\n",
        "    Attributes\n",
        "    ----------\n",
        "    conv1 : torch.nn.Conv3d\n",
        "        The convolution layer in the residual block.\n",
        "    relu1 : torch.nn.ReLU\n",
        "        The ReLU activation function in the residual block.\n",
        "    conv_skip : torch.nn.Conv3d\n",
        "        The convolution layer used in the skip connection when the\n",
        "        number of input and output channels are not equal.\n",
        "    \"\"\"\n",
        "\n",
        "    def __init__(self, in_channels, out_channels):\n",
        "        super(ResidualBlock, self).__init__()\n",
        "        self.conv1 = nn.Conv3d(in_channels, out_channels, kernel_size=3, padding=1)\n",
        "        self.relu1 = nn.ReLU(inplace=False)\n",
        "\n",
        "        if in_channels != out_channels:\n",
        "            self.conv_skip = nn.Conv3d(in_channels, out_channels, kernel_size=1, padding=0)\n",
        "        else:\n",
        "            self.conv_skip = None\n",
        "\n",
        "    def forward(self, x):\n",
        "        \"\"\"\n",
        "        Performs the forward pass through the Residual Block.\n",
        "\n",
        "        Parameters\n",
        "        ----------\n",
        "        x : torch.Tensor\n",
        "            The input tensor.\n",
        "\n",
        "        Returns\n",
        "        -------\n",
        "        out : torch.Tensor\n",
        "            The output tensor after passing through the Residual Block.\n",
        "        \"\"\"\n",
        "\n",
        "        identity = x\n",
        "        out = self.relu1(self.conv1(x))\n",
        "\n",
        "        if self.conv_skip is not None:\n",
        "            identity = self.conv_skip(identity)\n",
        "\n",
        "        out = out + identity\n",
        "        out = self.relu1(out)\n",
        "        return out\n"
      ]
    },
    {
      "cell_type": "code",
      "source": [
        "# Create a model instance\n",
        "model = ResidualBlock(in_channels=3, out_channels=16)\n",
        "\n",
        "# Create a dummy input tensor\n",
        "x = torch.randn(1, 3, 32, 32, 32)\n",
        "\n",
        "# Export the model to an ONNX file\n",
        "torch.onnx.export(model, x, \"/content/drive/My Drive/Project 2 Neuroimage Synthesis/Team2/code/Code - Project 2 Data/resblock.onnx\")\n",
        "\n"
      ],
      "metadata": {
        "colab": {
          "base_uri": "https://localhost:8080/"
        },
        "id": "HMwibcCtkZ-B",
        "outputId": "de759c9c-cb07-4db3-f36e-fb12435edbef"
      },
      "execution_count": null,
      "outputs": [
        {
          "output_type": "stream",
          "name": "stdout",
          "text": [
            "============= Diagnostic Run torch.onnx.export version 2.0.0+cu118 =============\n",
            "verbose: False, log level: Level.ERROR\n",
            "======================= 0 NONE 0 NOTE 0 WARNING 0 ERROR ========================\n",
            "\n"
          ]
        }
      ]
    },
    {
      "cell_type": "code",
      "execution_count": null,
      "metadata": {
        "id": "O_zD42Lu_tcU"
      },
      "outputs": [],
      "source": [
        "class UNet(nn.Module):\n",
        "    \"\"\"\n",
        "    This is the implementation of U-Net architecture with residual blocks,\n",
        "    which is a popular architecture for semantic segmentation tasks in the field of\n",
        "    medical imaging, and other related fields.\n",
        "\n",
        "    The U-Net architecture consists of a contracting path (encoder) to capture context and a\n",
        "    symmetric expanding path (decoder) that enables precise localization. The architecture of\n",
        "    U-Net is designed to seamlessly work with very little data and to yield more precise segmentations.\n",
        "\n",
        "    Parameters\n",
        "    ----------\n",
        "    in_channels : int\n",
        "        Number of input channels to the U-Net.\n",
        "    out_channels : int\n",
        "        Number of output channels from the U-Net.\n",
        "\n",
        "    Attributes\n",
        "    ----------\n",
        "    enc1, enc2, enc3, enc4 : ResidualBlock\n",
        "        The Residual Blocks in the contracting (encoder) path.\n",
        "    middle : ResidualBlock\n",
        "        The middle Residual Block.\n",
        "    up4, up3, up2, up1 : torch.nn.ConvTranspose3d\n",
        "        The ConvTranspose3d layers in the expanding (decoder) path.\n",
        "    dec4, dec3, dec2, dec1 : ResidualBlock\n",
        "        The Residual Blocks in the expanding (decoder) path.\n",
        "    pool : torch.nn.MaxPool3d\n",
        "        The MaxPool3d layer.\n",
        "    output : torch.nn.Conv3d\n",
        "        The final Conv3d layer.\n",
        "    \"\"\"\n",
        "\n",
        "    def __init__(self, in_channels, out_channels):\n",
        "        super(UNet, self).__init__()\n",
        "\n",
        "        self.enc1 = ResidualBlock(in_channels, 32)\n",
        "        self.enc2 = ResidualBlock(32, 64)\n",
        "        self.enc3 = ResidualBlock(64, 128)\n",
        "        self.enc4 = ResidualBlock(128, 256)\n",
        "\n",
        "        self.pool = nn.MaxPool3d(2)\n",
        "\n",
        "        self.middle = ResidualBlock(256, 512)\n",
        "\n",
        "        self.up4 = nn.ConvTranspose3d(512, 256, kernel_size=2, stride=2)\n",
        "        self.dec4 = ResidualBlock(512, 256)\n",
        "\n",
        "        self.up3 = nn.ConvTranspose3d(256, 128, kernel_size=2, stride=2)\n",
        "        self.dec3 = ResidualBlock(256, 128)\n",
        "\n",
        "        self.up2 = nn.ConvTranspose3d(128, 64, kernel_size=2, stride=2)\n",
        "        self.dec2 = ResidualBlock(128, 64)\n",
        "\n",
        "        self.up1 = nn.ConvTranspose3d(64, 32, kernel_size=2, stride=2)\n",
        "        self.dec1 = ResidualBlock(64, 32)\n",
        "\n",
        "        self.output = nn.Conv3d(32, out_channels, kernel_size=1)\n",
        "\n",
        "    def forward(self, x):\n",
        "        \"\"\"\n",
        "        Performs the forward pass through the U-Net.\n",
        "\n",
        "        Parameters\n",
        "        ----------\n",
        "        x : torch.Tensor\n",
        "            The input tensor.\n",
        "\n",
        "        Returns\n",
        "        -------\n",
        "        output : torch.Tensor\n",
        "            The output tensor after passing through the U-Net.\n",
        "        \"\"\"\n",
        "\n",
        "        enc1 = self.enc1(x)\n",
        "        enc2 = self.enc2(self.pool(enc1))\n",
        "        enc3 = self.enc3(self.pool(enc2))\n",
        "        enc4 = self.enc4(self.pool(enc3))\n",
        "\n",
        "        middle = self.middle(self.pool(enc4))\n",
        "\n",
        "        up4 = self.up_concat(self.up4, enc4, middle)\n",
        "        dec4 = self.dec4(up4)\n",
        "\n",
        "        up3 = self.up_concat(self.up3, enc3, dec4)\n",
        "        dec3 = self.dec3(up3)\n",
        "\n",
        "        up2 = self.up_concat(self.up2, enc2, dec3)\n",
        "        dec2 = self.dec2(up2)\n",
        "\n",
        "        up1 = self.up_concat(self.up1, enc1, dec2)\n",
        "        dec1 = self.dec1(up1)\n",
        "\n",
        "        output = self.output(dec1)\n",
        "\n",
        "        return output\n",
        "\n",
        "    def up_concat(self, up, encode, decode):\n",
        "        \"\"\"\n",
        "        Concatenates the upsampled tensor and the encoded tensor in the expanding (decoder) path.\n",
        "\n",
        "        Parameters\n",
        "        ----------\n",
        "        up : torch.nn.ConvTranspose3d\n",
        "            The ConvTranspose3d layer.\n",
        "        encode : torch.Tensor\n",
        "            The tensor from the encoder path.\n",
        "        decode : torch.Tensor\n",
        "            The tensor from the decoder path.\n",
        "\n",
        "        Returns\n",
        "        -------\n",
        "        merge : torch.Tensor\n",
        "            The merged tensor after concatenation.\n",
        "        \"\"\"\n",
        "        up = up(decode)\n",
        "        up = F.interpolate(up, size=encode.size()[2:], mode='trilinear', align_corners=False)\n",
        "        merge = torch.cat([encode, up], dim=1)\n",
        "        return merge\n",
        "\n"
      ]
    },
    {
      "cell_type": "code",
      "source": [
        "# Create a model instance\n",
        "model = UNet(in_channels=3, out_channels=1)\n",
        "\n",
        "# Create a dummy input tensor\n",
        "x = torch.randn(1, 3, 32, 32, 32)\n",
        "\n",
        "# Export the model to an ONNX file\n",
        "torch.onnx.export(model, x, \"/content/drive/My Drive/Project 2 Neuroimage Synthesis/Team2/code/Code - Project 2 Data/unet_residual.onnx\")\n"
      ],
      "metadata": {
        "colab": {
          "base_uri": "https://localhost:8080/"
        },
        "id": "dU1_Lzqjj2bg",
        "outputId": "d0fbbac8-c661-4e59-9d17-0181ef3f556c"
      },
      "execution_count": null,
      "outputs": [
        {
          "output_type": "stream",
          "name": "stdout",
          "text": [
            "============= Diagnostic Run torch.onnx.export version 2.0.0+cu118 =============\n",
            "verbose: False, log level: Level.ERROR\n",
            "======================= 0 NONE 0 NOTE 0 WARNING 0 ERROR ========================\n",
            "\n"
          ]
        }
      ]
    },
    {
      "cell_type": "markdown",
      "metadata": {
        "id": "KPHeeXiPt9dZ"
      },
      "source": [
        "## Train the Model"
      ]
    },
    {
      "cell_type": "code",
      "execution_count": null,
      "metadata": {
        "id": "7u5KlE7Ydc8P"
      },
      "outputs": [],
      "source": [
        "device = torch.device(\"cuda:0\" if torch.cuda.is_available() else \"cpu\")\n",
        "\n",
        "# Instantiate model\n",
        "model = UNet(2, 2).to(device)\n",
        "\n",
        "# Define loss function and optimizer\n",
        "criterion = nn.MSELoss()\n",
        "optimizer = torch.optim.Adam(model.parameters(), lr=1e-4)\n",
        "\n",
        "num_epochs = 100\n",
        "train_losses = []\n",
        "val_losses = []\n",
        "patience = 10\n",
        "early_stopping_counter = 0\n",
        "#model_save_path = \"model.pt\"\n",
        "# model_save_path = r\"G:\\My Drive\\Project 2 Neuroimage Synthesis\\model.pt\"\n",
        "model_save_path = \"/content/drive/My Drive/Project 2 Neuroimage Synthesis/Team2/code/Code - Project 2 Data/residual.pt\"\n",
        "best_validation_loss = float('inf')\n",
        "\n"
      ]
    },
    {
      "cell_type": "code",
      "execution_count": null,
      "metadata": {
        "id": "DePsGVsYt_PE",
        "colab": {
          "base_uri": "https://localhost:8080/"
        },
        "outputId": "033679f4-60bf-494c-a377-0e5540f561ee"
      },
      "outputs": [
        {
          "output_type": "stream",
          "name": "stdout",
          "text": [
            "Epoch 1/100, Train Loss: 25.6976, Val Loss: 3.2793, Epoch Duration: 629.0614 seconds, Total Time: 629.0619 seconds\n",
            "Epoch 2/100, Train Loss: 2.4373, Val Loss: 1.8639, Epoch Duration: 140.6804 seconds, Total Time: 770.6237 seconds\n",
            "Epoch 3/100, Train Loss: 1.5573, Val Loss: 1.3050, Epoch Duration: 140.9899 seconds, Total Time: 911.7305 seconds\n",
            "Epoch 4/100, Train Loss: 1.1821, Val Loss: 1.0169, Epoch Duration: 141.1831 seconds, Total Time: 1053.0261 seconds\n",
            "Epoch 5/100, Train Loss: 0.9275, Val Loss: 0.8019, Epoch Duration: 141.1200 seconds, Total Time: 1194.2579 seconds\n",
            "Epoch 6/100, Train Loss: 0.7254, Val Loss: 0.6193, Epoch Duration: 141.6064 seconds, Total Time: 1335.9769 seconds\n",
            "Epoch 7/100, Train Loss: 0.5766, Val Loss: 0.5081, Epoch Duration: 141.4074 seconds, Total Time: 1477.5008 seconds\n",
            "Epoch 8/100, Train Loss: 0.4891, Val Loss: 0.4452, Epoch Duration: 141.3674 seconds, Total Time: 1618.9824 seconds\n",
            "Epoch 9/100, Train Loss: 0.4253, Val Loss: 0.3868, Epoch Duration: 141.6119 seconds, Total Time: 1760.7111 seconds\n",
            "Epoch 10/100, Train Loss: 0.3754, Val Loss: 0.3464, Epoch Duration: 141.2532 seconds, Total Time: 1902.0879 seconds\n",
            "Epoch 11/100, Train Loss: 0.3350, Val Loss: 0.3095, Epoch Duration: 141.4989 seconds, Total Time: 2043.6984 seconds\n",
            "Epoch 12/100, Train Loss: 0.3053, Val Loss: 0.2789, Epoch Duration: 141.3519 seconds, Total Time: 2185.1580 seconds\n",
            "Epoch 13/100, Train Loss: 0.2773, Val Loss: 0.2569, Epoch Duration: 141.1868 seconds, Total Time: 2326.4589 seconds\n",
            "Epoch 14/100, Train Loss: 0.2751, Val Loss: 0.4019, Epoch Duration: 141.8762 seconds, Total Time: 2468.4459 seconds\n",
            "Epoch 15/100, Train Loss: 0.2489, Val Loss: 0.2278, Epoch Duration: 141.4103 seconds, Total Time: 2609.8565 seconds\n",
            "Epoch 16/100, Train Loss: 0.2271, Val Loss: 0.2125, Epoch Duration: 141.5186 seconds, Total Time: 2751.4869 seconds\n",
            "Epoch 17/100, Train Loss: 0.2127, Val Loss: 0.1997, Epoch Duration: 141.6109 seconds, Total Time: 2893.2092 seconds\n",
            "Epoch 18/100, Train Loss: 0.2060, Val Loss: 0.2004, Epoch Duration: 141.5473 seconds, Total Time: 3034.8734 seconds\n",
            "Epoch 19/100, Train Loss: 0.2019, Val Loss: 0.2365, Epoch Duration: 141.7948 seconds, Total Time: 3176.6686 seconds\n",
            "Epoch 20/100, Train Loss: 0.1950, Val Loss: 0.2165, Epoch Duration: 141.9122 seconds, Total Time: 3318.5817 seconds\n",
            "Epoch 21/100, Train Loss: 0.2171, Val Loss: 0.1911, Epoch Duration: 141.6839 seconds, Total Time: 3460.2659 seconds\n",
            "Epoch 22/100, Train Loss: 0.1792, Val Loss: 0.1633, Epoch Duration: 141.2102 seconds, Total Time: 3601.5901 seconds\n",
            "Epoch 23/100, Train Loss: 0.1648, Val Loss: 0.1598, Epoch Duration: 141.2742 seconds, Total Time: 3742.9831 seconds\n",
            "Epoch 24/100, Train Loss: 0.1592, Val Loss: 0.1631, Epoch Duration: 140.1914 seconds, Total Time: 3883.2878 seconds\n",
            "Epoch 25/100, Train Loss: 0.1531, Val Loss: 0.1477, Epoch Duration: 140.6669 seconds, Total Time: 4023.9549 seconds\n",
            "Epoch 26/100, Train Loss: 0.1494, Val Loss: 0.1553, Epoch Duration: 142.2227 seconds, Total Time: 4166.2918 seconds\n",
            "Epoch 27/100, Train Loss: 0.1534, Val Loss: 0.1375, Epoch Duration: 141.8947 seconds, Total Time: 4308.1868 seconds\n",
            "Epoch 28/100, Train Loss: 0.1418, Val Loss: 0.1321, Epoch Duration: 141.4812 seconds, Total Time: 4449.7804 seconds\n",
            "Epoch 29/100, Train Loss: 0.1334, Val Loss: 0.1248, Epoch Duration: 141.5528 seconds, Total Time: 4591.4470 seconds\n",
            "Epoch 30/100, Train Loss: 0.1737, Val Loss: 0.1338, Epoch Duration: 141.1139 seconds, Total Time: 4732.6825 seconds\n",
            "Epoch 31/100, Train Loss: 0.1266, Val Loss: 0.1184, Epoch Duration: 141.7459 seconds, Total Time: 4874.4291 seconds\n",
            "Epoch 32/100, Train Loss: 0.1199, Val Loss: 0.1140, Epoch Duration: 141.6496 seconds, Total Time: 5016.1916 seconds\n",
            "Epoch 33/100, Train Loss: 0.1179, Val Loss: 0.1132, Epoch Duration: 141.6980 seconds, Total Time: 5158.0092 seconds\n",
            "Epoch 34/100, Train Loss: 0.1172, Val Loss: 0.1110, Epoch Duration: 141.3760 seconds, Total Time: 5299.4950 seconds\n",
            "Epoch 35/100, Train Loss: 0.1161, Val Loss: 0.1908, Epoch Duration: 141.7311 seconds, Total Time: 5441.3390 seconds\n",
            "Epoch 36/100, Train Loss: 0.1138, Val Loss: 0.0999, Epoch Duration: 142.0081 seconds, Total Time: 5583.3475 seconds\n",
            "Epoch 37/100, Train Loss: 0.1064, Val Loss: 0.0967, Epoch Duration: 141.5596 seconds, Total Time: 5725.0182 seconds\n",
            "Epoch 38/100, Train Loss: 0.0994, Val Loss: 0.0966, Epoch Duration: 141.3685 seconds, Total Time: 5866.4987 seconds\n",
            "Epoch 39/100, Train Loss: 0.0950, Val Loss: 0.0903, Epoch Duration: 141.6019 seconds, Total Time: 6008.2162 seconds\n",
            "Epoch 40/100, Train Loss: 0.0917, Val Loss: 0.0881, Epoch Duration: 141.1195 seconds, Total Time: 6149.4505 seconds\n",
            "Epoch 41/100, Train Loss: 0.0912, Val Loss: 0.0865, Epoch Duration: 141.4723 seconds, Total Time: 6291.0360 seconds\n",
            "Epoch 42/100, Train Loss: 0.0941, Val Loss: 0.0902, Epoch Duration: 142.5122 seconds, Total Time: 6433.6601 seconds\n",
            "Epoch 43/100, Train Loss: 0.1265, Val Loss: 0.0803, Epoch Duration: 142.0658 seconds, Total Time: 6575.7265 seconds\n",
            "Epoch 44/100, Train Loss: 0.0828, Val Loss: 0.0758, Epoch Duration: 141.9483 seconds, Total Time: 6717.7842 seconds\n",
            "Epoch 45/100, Train Loss: 0.0799, Val Loss: 0.0897, Epoch Duration: 142.1201 seconds, Total Time: 6860.0171 seconds\n",
            "Epoch 46/100, Train Loss: 0.0832, Val Loss: 0.0808, Epoch Duration: 141.6852 seconds, Total Time: 7001.7033 seconds\n",
            "Epoch 47/100, Train Loss: 0.0804, Val Loss: 0.0719, Epoch Duration: 141.5550 seconds, Total Time: 7143.2593 seconds\n",
            "Epoch 48/100, Train Loss: 0.0735, Val Loss: 0.0844, Epoch Duration: 141.6540 seconds, Total Time: 7285.0279 seconds\n",
            "Epoch 49/100, Train Loss: 0.0817, Val Loss: 0.0737, Epoch Duration: 141.4266 seconds, Total Time: 7426.4551 seconds\n",
            "Epoch 50/100, Train Loss: 0.0690, Val Loss: 0.0822, Epoch Duration: 141.8298 seconds, Total Time: 7568.2852 seconds\n",
            "Epoch 51/100, Train Loss: 0.0679, Val Loss: 0.0568, Epoch Duration: 141.6490 seconds, Total Time: 7709.9345 seconds\n",
            "Epoch 52/100, Train Loss: 0.0621, Val Loss: 0.0740, Epoch Duration: 141.5327 seconds, Total Time: 7851.5852 seconds\n",
            "Epoch 53/100, Train Loss: 0.0704, Val Loss: 0.0565, Epoch Duration: 141.7231 seconds, Total Time: 7993.3092 seconds\n",
            "Epoch 54/100, Train Loss: 0.0582, Val Loss: 0.0569, Epoch Duration: 141.5582 seconds, Total Time: 8134.9853 seconds\n",
            "Epoch 55/100, Train Loss: 0.0561, Val Loss: 0.0494, Epoch Duration: 141.5269 seconds, Total Time: 8276.5129 seconds\n",
            "Epoch 56/100, Train Loss: 0.0629, Val Loss: 0.0492, Epoch Duration: 141.6576 seconds, Total Time: 8418.2864 seconds\n",
            "Epoch 57/100, Train Loss: 0.0557, Val Loss: 0.1963, Epoch Duration: 141.5239 seconds, Total Time: 8559.9253 seconds\n",
            "Epoch 58/100, Train Loss: 0.0717, Val Loss: 0.0519, Epoch Duration: 141.5098 seconds, Total Time: 8701.4354 seconds\n",
            "Epoch 59/100, Train Loss: 0.0587, Val Loss: 0.0564, Epoch Duration: 141.8244 seconds, Total Time: 8843.2606 seconds\n",
            "Epoch 60/100, Train Loss: 0.0504, Val Loss: 0.0438, Epoch Duration: 141.7154 seconds, Total Time: 8984.9763 seconds\n",
            "Epoch 61/100, Train Loss: 0.0463, Val Loss: 0.0493, Epoch Duration: 141.5183 seconds, Total Time: 9126.6069 seconds\n",
            "Epoch 62/100, Train Loss: 0.0481, Val Loss: 0.0641, Epoch Duration: 142.0482 seconds, Total Time: 9268.6556 seconds\n",
            "Epoch 63/100, Train Loss: 0.0876, Val Loss: 0.3000, Epoch Duration: 141.6156 seconds, Total Time: 9410.2720 seconds\n",
            "Epoch 64/100, Train Loss: 0.1007, Val Loss: 0.0422, Epoch Duration: 141.2123 seconds, Total Time: 9551.4850 seconds\n",
            "Epoch 65/100, Train Loss: 0.0433, Val Loss: 0.0454, Epoch Duration: 141.4783 seconds, Total Time: 9693.0794 seconds\n",
            "Epoch 66/100, Train Loss: 0.0431, Val Loss: 0.0391, Epoch Duration: 141.7958 seconds, Total Time: 9834.8756 seconds\n",
            "Epoch 67/100, Train Loss: 0.0409, Val Loss: 0.0370, Epoch Duration: 141.5945 seconds, Total Time: 9976.5894 seconds\n",
            "Epoch 68/100, Train Loss: 0.0393, Val Loss: 0.0371, Epoch Duration: 141.5729 seconds, Total Time: 10118.2762 seconds\n",
            "Epoch 69/100, Train Loss: 0.0390, Val Loss: 0.0375, Epoch Duration: 141.3302 seconds, Total Time: 10259.6067 seconds\n",
            "Epoch 70/100, Train Loss: 0.0762, Val Loss: 0.0489, Epoch Duration: 141.5178 seconds, Total Time: 10401.1249 seconds\n",
            "Epoch 71/100, Train Loss: 0.0399, Val Loss: 0.0413, Epoch Duration: 141.5306 seconds, Total Time: 10542.6558 seconds\n",
            "Epoch 72/100, Train Loss: 0.0405, Val Loss: 0.0337, Epoch Duration: 141.5057 seconds, Total Time: 10684.1618 seconds\n",
            "Epoch 73/100, Train Loss: 0.0366, Val Loss: 0.0345, Epoch Duration: 141.2615 seconds, Total Time: 10825.5392 seconds\n",
            "Epoch 74/100, Train Loss: 0.0486, Val Loss: 0.0380, Epoch Duration: 141.8730 seconds, Total Time: 10967.4127 seconds\n",
            "Epoch 75/100, Train Loss: 0.0408, Val Loss: 0.0549, Epoch Duration: 141.7529 seconds, Total Time: 11109.1660 seconds\n",
            "Epoch 76/100, Train Loss: 0.0396, Val Loss: 0.0320, Epoch Duration: 143.3770 seconds, Total Time: 11252.5439 seconds\n",
            "Epoch 77/100, Train Loss: 0.0384, Val Loss: 0.0307, Epoch Duration: 142.4714 seconds, Total Time: 11395.1362 seconds\n",
            "Epoch 78/100, Train Loss: 0.0399, Val Loss: 0.0299, Epoch Duration: 142.6150 seconds, Total Time: 11537.8685 seconds\n",
            "Epoch 79/100, Train Loss: 0.0326, Val Loss: 0.0381, Epoch Duration: 141.6886 seconds, Total Time: 11679.6715 seconds\n",
            "Epoch 80/100, Train Loss: 0.0313, Val Loss: 0.0298, Epoch Duration: 141.5889 seconds, Total Time: 11821.2607 seconds\n",
            "Epoch 81/100, Train Loss: 0.0318, Val Loss: 0.0281, Epoch Duration: 142.3113 seconds, Total Time: 11963.6869 seconds\n",
            "Epoch 82/100, Train Loss: 0.0321, Val Loss: 0.0300, Epoch Duration: 142.2891 seconds, Total Time: 12106.0929 seconds\n",
            "Epoch 83/100, Train Loss: 0.0453, Val Loss: 0.0544, Epoch Duration: 142.0900 seconds, Total Time: 12248.1840 seconds\n",
            "Epoch 84/100, Train Loss: 0.0384, Val Loss: 0.0333, Epoch Duration: 142.4374 seconds, Total Time: 12390.6221 seconds\n",
            "Epoch 85/100, Train Loss: 0.0345, Val Loss: 0.0259, Epoch Duration: 142.6633 seconds, Total Time: 12533.2868 seconds\n",
            "Epoch 86/100, Train Loss: 0.0350, Val Loss: 0.0361, Epoch Duration: 141.5905 seconds, Total Time: 12674.9933 seconds\n",
            "Epoch 87/100, Train Loss: 0.0363, Val Loss: 0.0254, Epoch Duration: 141.4396 seconds, Total Time: 12816.4332 seconds\n",
            "Epoch 88/100, Train Loss: 0.0291, Val Loss: 0.0385, Epoch Duration: 141.3762 seconds, Total Time: 12957.9199 seconds\n",
            "Epoch 89/100, Train Loss: 0.0283, Val Loss: 0.0253, Epoch Duration: 141.6379 seconds, Total Time: 13099.5581 seconds\n",
            "Epoch 90/100, Train Loss: 0.0393, Val Loss: 0.1892, Epoch Duration: 141.6163 seconds, Total Time: 13241.2891 seconds\n",
            "Epoch 91/100, Train Loss: 0.0497, Val Loss: 0.0515, Epoch Duration: 141.8806 seconds, Total Time: 13383.1700 seconds\n",
            "Epoch 92/100, Train Loss: 0.0368, Val Loss: 0.0592, Epoch Duration: 140.7193 seconds, Total Time: 13523.8896 seconds\n",
            "Epoch 93/100, Train Loss: 0.0350, Val Loss: 0.0310, Epoch Duration: 138.0139 seconds, Total Time: 13661.9038 seconds\n",
            "Epoch 94/100, Train Loss: 0.0330, Val Loss: 0.0244, Epoch Duration: 138.1795 seconds, Total Time: 13800.0837 seconds\n",
            "Epoch 95/100, Train Loss: 0.0257, Val Loss: 0.0247, Epoch Duration: 138.5291 seconds, Total Time: 13938.7287 seconds\n",
            "Epoch 96/100, Train Loss: 0.0304, Val Loss: 0.0215, Epoch Duration: 138.0370 seconds, Total Time: 14076.7660 seconds\n",
            "Epoch 97/100, Train Loss: 0.0298, Val Loss: 0.0257, Epoch Duration: 138.0312 seconds, Total Time: 14214.9103 seconds\n",
            "Epoch 98/100, Train Loss: 0.0306, Val Loss: 0.0330, Epoch Duration: 138.1646 seconds, Total Time: 14353.0752 seconds\n",
            "Epoch 99/100, Train Loss: 0.0317, Val Loss: 0.0420, Epoch Duration: 138.3269 seconds, Total Time: 14491.4027 seconds\n",
            "Epoch 100/100, Train Loss: 0.0359, Val Loss: 0.0983, Epoch Duration: 137.9854 seconds, Total Time: 14629.3884 seconds\n"
          ]
        }
      ],
      "source": [
        "train_losses = []\n",
        "val_losses = []\n",
        "\n",
        "best_validation_loss = float('inf')\n",
        "early_stopping_counter = 0\n",
        "#patience = 10\n",
        "\n",
        "start_time = time.time()\n",
        "\n",
        "for epoch in range(num_epochs):\n",
        "    torch.autograd.set_detect_anomaly(True)\n",
        "    model.train()\n",
        "\n",
        "    epoch_start_time = time.time()\n",
        "\n",
        "    train_loss = 0.0\n",
        "    for i, (input_imgs, target_imgs) in enumerate(train_loader):\n",
        "        input_imgs = input_imgs.to(device)\n",
        "        target_imgs = F.interpolate(target_imgs, size=[182, 218, 182], mode='trilinear', align_corners=False)\n",
        "        #target_imgs = F.interpolate(target_imgs, size=(182, 218, 182), mode='trilinear', align_corners=False)\n",
        "        target_imgs = target_imgs.to(device)\n",
        "\n",
        "        optimizer.zero_grad()\n",
        "        outputs = model(input_imgs)\n",
        "        loss = criterion(outputs, target_imgs)\n",
        "        loss.backward()\n",
        "        optimizer.step()\n",
        "\n",
        "        train_loss += loss.item() * input_imgs.size(0)\n",
        "\n",
        "    train_loss /= len(train_loader.dataset)\n",
        "    train_losses.append(train_loss)\n",
        "\n",
        "    model.eval()\n",
        "    val_loss = 0.0\n",
        "    with torch.no_grad():\n",
        "        for inputs, targets in val_loader:\n",
        "            inputs = inputs.to(device)\n",
        "            targets = F.interpolate(targets, size=[182, 218, 182], mode='trilinear', align_corners=False)\n",
        "            targets = targets.to(device)\n",
        "\n",
        "            outputs = model(inputs)\n",
        "            loss = criterion(outputs, targets)\n",
        "            val_loss += loss.item() * inputs.size(0)\n",
        "\n",
        "\n",
        "    val_loss /= len(val_loader.dataset)\n",
        "    val_losses.append(val_loss)\n",
        "\n",
        "    epoch_end_time = time.time()\n",
        "    epoch_duration = epoch_end_time - epoch_start_time\n",
        "    total_training_time = time.time() - start_time\n",
        "\n",
        "    print(f'Epoch {epoch+1}/{num_epochs}, Train Loss: {train_loss:.4f}, Val Loss: {val_loss:.4f}, Epoch Duration: {epoch_duration:.4f} seconds, Total Time: {total_training_time:.4f} seconds')\n",
        "\n",
        "    if val_loss < best_validation_loss:\n",
        "        best_validation_loss = val_loss\n",
        "        early_stopping_counter = 0\n",
        "        torch.save(model.state_dict(), model_save_path)\n",
        "    else:\n",
        "        early_stopping_counter += 1\n",
        "        if early_stopping_counter >= patience:\n",
        "            print(\"Early stopping triggered.\")\n",
        "            break"
      ]
    },
    {
      "cell_type": "code",
      "execution_count": null,
      "metadata": {
        "id": "myYHyL3-m5ou",
        "colab": {
          "base_uri": "https://localhost:8080/"
        },
        "outputId": "4d7c4945-28d9-4000-f280-83fbe151c12f"
      },
      "outputs": [
        {
          "output_type": "stream",
          "name": "stdout",
          "text": [
            "Total training time: 15227.0324 seconds\n",
            "Average Epoch Time: 152.27 seconds\n"
          ]
        }
      ],
      "source": [
        "# Print total training time\n",
        "end_time = time.time()\n",
        "total_time = end_time - start_time\n",
        "print(f'Total training time: {total_time:.4f} seconds')\n",
        "\n",
        "avg_epoch_time = total_time / num_epochs\n",
        "print(f\"Average Epoch Time: {avg_epoch_time:.2f} seconds\")\n",
        "\n"
      ]
    },
    {
      "cell_type": "markdown",
      "source": [
        "## Save Model State"
      ],
      "metadata": {
        "id": "7ugK47y9QTlF"
      }
    },
    {
      "cell_type": "code",
      "source": [
        "torch.save({\n",
        "            'epoch': epoch,\n",
        "            'model_state_dict': model.state_dict(),\n",
        "            'optimizer_state_dict': optimizer.state_dict(),\n",
        "            'loss': loss,\n",
        "            }, \"residual.pt\")\n"
      ],
      "metadata": {
        "id": "J0T9eVvwkY4n"
      },
      "execution_count": null,
      "outputs": []
    },
    {
      "cell_type": "markdown",
      "metadata": {
        "id": "eMcgQG-dzPZV"
      },
      "source": [
        "## Train/Val Loss Plot"
      ]
    },
    {
      "cell_type": "code",
      "execution_count": null,
      "metadata": {
        "id": "OBeNThFdpoUd",
        "colab": {
          "base_uri": "https://localhost:8080/",
          "height": 483
        },
        "outputId": "c5797ac0-d575-4649-bbeb-344ef98d92af"
      },
      "outputs": [
        {
          "output_type": "display_data",
          "data": {
            "text/plain": [
              "<Figure size 1000x500 with 1 Axes>"
            ],
            "image/png": "[encoded data removed]"
          },
          "metadata": {}
        },
        {
          "output_type": "stream",
          "name": "stdout",
          "text": [
            "Total training time: 34043.1511 seconds\n"
          ]
        }
      ],
      "source": [
        "# Plot training and validation loss\n",
        "plt.figure(figsize=(10, 5))\n",
        "plt.plot(train_losses, label='Train Loss')\n",
        "plt.plot(val_losses, label='Val Loss')\n",
        "plt.xlabel('Epochs')\n",
        "plt.ylabel('Loss')\n",
        "plt.legend()\n",
        "#plt.savefig(\"/content/drive/My Drive/Project 2 Neuroimage Synthesis/loss_plot.png\")\n",
        "plt.show()\n",
        "\n",
        "# Total training time\n",
        "end_time = time.time()\n",
        "total_time = end_time - start_time\n",
        "print(f'Total training time: {total_time:.4f} seconds')"
      ]
    },
    {
      "cell_type": "markdown",
      "source": [
        "##Reload Model"
      ],
      "metadata": {
        "id": "_wwZlQALTGLz"
      }
    },
    {
      "cell_type": "markdown",
      "source": [],
      "metadata": {
        "id": "m91sgh84TGHu"
      }
    },
    {
      "cell_type": "code",
      "source": [
        "device = torch.device(\"cuda:0\" if torch.cuda.is_available() else \"cpu\")\n",
        "\n",
        "# Instantiate model\n",
        "model = UNet(2, 2).to(device)\n",
        "\n",
        "# Define loss function and optimizer\n",
        "criterion = nn.MSELoss()\n",
        "optimizer = torch.optim.Adam(model.parameters(), lr=1e-4)"
      ],
      "metadata": {
        "id": "bROhrRrC_ubf"
      },
      "execution_count": null,
      "outputs": []
    },
    {
      "cell_type": "code",
      "source": [
        "# Load the model\n",
        "#model_path = \"/content/drive/My Drive/Project 2 Neuroimage Synthesis/unet.pt\"\n",
        "\n",
        "model_path = \"/content/drive/My Drive/Project 2 Neuroimage Synthesis/Team2/code/Code - Project 2 Data/residual.pt\"\n",
        "model.load_state_dict(torch.load(model_path))\n",
        "\n",
        "# Switch to eval mode\n",
        "model.eval()\n"
      ],
      "metadata": {
        "colab": {
          "base_uri": "https://localhost:8080/"
        },
        "id": "2gcIyM5-d-HP",
        "outputId": "b4eb1f3b-2aa0-4ec4-f87d-9638f6ddac45"
      },
      "execution_count": null,
      "outputs": [
        {
          "output_type": "execute_result",
          "data": {
            "text/plain": [
              "UNet(\n",
              "  (enc1): ResidualBlock(\n",
              "    (conv1): Conv3d(2, 32, kernel_size=(3, 3, 3), stride=(1, 1, 1), padding=(1, 1, 1))\n",
              "    (relu1): ReLU()\n",
              "    (conv_skip): Conv3d(2, 32, kernel_size=(1, 1, 1), stride=(1, 1, 1))\n",
              "  )\n",
              "  (enc2): ResidualBlock(\n",
              "    (conv1): Conv3d(32, 64, kernel_size=(3, 3, 3), stride=(1, 1, 1), padding=(1, 1, 1))\n",
              "    (relu1): ReLU()\n",
              "    (conv_skip): Conv3d(32, 64, kernel_size=(1, 1, 1), stride=(1, 1, 1))\n",
              "  )\n",
              "  (enc3): ResidualBlock(\n",
              "    (conv1): Conv3d(64, 128, kernel_size=(3, 3, 3), stride=(1, 1, 1), padding=(1, 1, 1))\n",
              "    (relu1): ReLU()\n",
              "    (conv_skip): Conv3d(64, 128, kernel_size=(1, 1, 1), stride=(1, 1, 1))\n",
              "  )\n",
              "  (enc4): ResidualBlock(\n",
              "    (conv1): Conv3d(128, 256, kernel_size=(3, 3, 3), stride=(1, 1, 1), padding=(1, 1, 1))\n",
              "    (relu1): ReLU()\n",
              "    (conv_skip): Conv3d(128, 256, kernel_size=(1, 1, 1), stride=(1, 1, 1))\n",
              "  )\n",
              "  (pool): MaxPool3d(kernel_size=2, stride=2, padding=0, dilation=1, ceil_mode=False)\n",
              "  (middle): ResidualBlock(\n",
              "    (conv1): Conv3d(256, 512, kernel_size=(3, 3, 3), stride=(1, 1, 1), padding=(1, 1, 1))\n",
              "    (relu1): ReLU()\n",
              "    (conv_skip): Conv3d(256, 512, kernel_size=(1, 1, 1), stride=(1, 1, 1))\n",
              "  )\n",
              "  (up4): ConvTranspose3d(512, 256, kernel_size=(2, 2, 2), stride=(2, 2, 2))\n",
              "  (dec4): ResidualBlock(\n",
              "    (conv1): Conv3d(512, 256, kernel_size=(3, 3, 3), stride=(1, 1, 1), padding=(1, 1, 1))\n",
              "    (relu1): ReLU()\n",
              "    (conv_skip): Conv3d(512, 256, kernel_size=(1, 1, 1), stride=(1, 1, 1))\n",
              "  )\n",
              "  (up3): ConvTranspose3d(256, 128, kernel_size=(2, 2, 2), stride=(2, 2, 2))\n",
              "  (dec3): ResidualBlock(\n",
              "    (conv1): Conv3d(256, 128, kernel_size=(3, 3, 3), stride=(1, 1, 1), padding=(1, 1, 1))\n",
              "    (relu1): ReLU()\n",
              "    (conv_skip): Conv3d(256, 128, kernel_size=(1, 1, 1), stride=(1, 1, 1))\n",
              "  )\n",
              "  (up2): ConvTranspose3d(128, 64, kernel_size=(2, 2, 2), stride=(2, 2, 2))\n",
              "  (dec2): ResidualBlock(\n",
              "    (conv1): Conv3d(128, 64, kernel_size=(3, 3, 3), stride=(1, 1, 1), padding=(1, 1, 1))\n",
              "    (relu1): ReLU()\n",
              "    (conv_skip): Conv3d(128, 64, kernel_size=(1, 1, 1), stride=(1, 1, 1))\n",
              "  )\n",
              "  (up1): ConvTranspose3d(64, 32, kernel_size=(2, 2, 2), stride=(2, 2, 2))\n",
              "  (dec1): ResidualBlock(\n",
              "    (conv1): Conv3d(64, 32, kernel_size=(3, 3, 3), stride=(1, 1, 1), padding=(1, 1, 1))\n",
              "    (relu1): ReLU()\n",
              "    (conv_skip): Conv3d(64, 32, kernel_size=(1, 1, 1), stride=(1, 1, 1))\n",
              "  )\n",
              "  (output): Conv3d(32, 2, kernel_size=(1, 1, 1), stride=(1, 1, 1))\n",
              ")"
            ]
          },
          "metadata": {},
          "execution_count": 26
        }
      ]
    },
    {
      "cell_type": "markdown",
      "metadata": {
        "id": "lg43aZtYuEHE"
      },
      "source": [
        "## Test - Produce Synthesized Maps of FA and ADC"
      ]
    },
    {
      "cell_type": "code",
      "source": [
        "test_ids"
      ],
      "metadata": {
        "colab": {
          "base_uri": "https://localhost:8080/"
        },
        "id": "j6C0trMP6uNF",
        "outputId": "ff995fef-e460-497f-e9d2-7143070ee69c"
      },
      "execution_count": null,
      "outputs": [
        {
          "output_type": "execute_result",
          "data": {
            "text/plain": [
              "['103',\n",
              " '177',\n",
              " '140',\n",
              " '184',\n",
              " '042',\n",
              " '111',\n",
              " '023',\n",
              " '020',\n",
              " '165',\n",
              " '065',\n",
              " '048',\n",
              " '114',\n",
              " '141',\n",
              " '183',\n",
              " '015',\n",
              " '142',\n",
              " '196',\n",
              " '037',\n",
              " '098',\n",
              " '195',\n",
              " '137']"
            ]
          },
          "metadata": {},
          "execution_count": 24
        }
      ]
    },
    {
      "cell_type": "code",
      "source": [
        "import torch\n",
        "import numpy as np\n",
        "import os\n",
        "import nibabel as nib\n",
        "from nibabel.processing import resample_to_output\n",
        "import csv\n",
        "from skimage.metrics import structural_similarity as ssim\n",
        "from skimage.metrics import peak_signal_noise_ratio as psnr\n",
        "from skimage.metrics import mean_squared_error as mse"
      ],
      "metadata": {
        "id": "6q-FAlYRAJA8"
      },
      "execution_count": null,
      "outputs": []
    },
    {
      "cell_type": "code",
      "source": [
        "from nilearn.image import resample_img\n",
        "\n",
        "# Define the new voxel size for resampling\n",
        "new_voxel_size = (1.25, 1.25, 1.25)\n",
        "\n",
        "successful_patients = []\n",
        "\n",
        "with torch.no_grad():\n",
        "    for i, (input_imgs, target_imgs) in enumerate(test_loader):\n",
        "        patient_id = test_ids[i]\n",
        "        print(f\"Processing patient {patient_id}\")\n",
        "\n",
        "        # Save the original images for visualization\n",
        "        original_input_imgs = input_imgs.clone()\n",
        "\n",
        "        # Move tensors to the device\n",
        "        input_imgs = input_imgs.to(device)\n",
        "        target_imgs = target_imgs.to(device)\n",
        "\n",
        "        # Generate output maps from input images\n",
        "        outputs = model(input_imgs)\n",
        "\n",
        "        # Check the number of outputs\n",
        "        if len(outputs) == 2:\n",
        "            # Unpack the outputs\n",
        "            fake_fa, fake_adc = outputs\n",
        "\n",
        "            # Convert tensors to Nifti images\n",
        "            fake_fa_nifti = nib.Nifti1Image(fake_fa[0].cpu().numpy(), np.eye(4))\n",
        "            fake_adc_nifti = nib.Nifti1Image(fake_adc[0].cpu().numpy(), np.eye(4))\n",
        "\n",
        "            # Resample the images to the new voxel size\n",
        "            fake_fa_nifti = resample_img(fake_fa_nifti, target_affine=np.diag(new_voxel_size))\n",
        "            fake_adc_nifti = resample_img(fake_adc_nifti, target_affine=np.diag(new_voxel_size))\n",
        "\n",
        "            # Save the synthesized FA and ADC maps\n",
        "            patient_id = test_ids[i]\n",
        "            patient_folder = os.path.join(root_dir, patient_id)\n",
        "\n",
        "            fa_syn_path = os.path.join(patient_folder, 'FA_syn.nii.gz')\n",
        "            adc_syn_path = os.path.join(patient_folder, 'ADC_syn.nii.gz')\n",
        "\n",
        "            nib.save(fake_fa_nifti, fa_syn_path)\n",
        "            nib.save(fake_adc_nifti, adc_syn_path)\n",
        "\n",
        "            # Add the successful patient_id to the list\n",
        "            successful_patients.append(patient_id)\n",
        "        elif len(outputs) == 1:\n",
        "            print(f\"Only one output for patient {test_ids[i]}, skipping.\")\n",
        "        else:\n",
        "            print(f\"Unexpected number of outputs for patient {test_ids[i]}, skipping.\")\n",
        "\n",
        "print(\"Successfully saved patients:\", successful_patients)\n"
      ],
      "metadata": {
        "colab": {
          "base_uri": "https://localhost:8080/"
        },
        "id": "kl4HipBqANic",
        "outputId": "2b492eeb-1042-4ad0-98d6-a124eed1a0a3"
      },
      "execution_count": null,
      "outputs": [
        {
          "output_type": "stream",
          "name": "stdout",
          "text": [
            "Processing patient 103\n",
            "Processing patient 177\n",
            "Processing patient 140\n",
            "Processing patient 184\n",
            "Processing patient 042\n",
            "Processing patient 111\n",
            "Processing patient 023\n",
            "Processing patient 020\n",
            "Processing patient 165\n",
            "Processing patient 065\n",
            "Processing patient 048\n",
            "Only one output for patient 048, skipping.\n",
            "Successfully saved patients: ['103', '177', '140', '184', '042', '111', '023', '020', '165', '065']\n"
          ]
        }
      ]
    },
    {
      "cell_type": "markdown",
      "source": [
        "## Save Metrics (MSE, PSNR, SSIM) to a CSV comparing synthesized FA and ADC maps to original FA and ADC for each patient in test set."
      ],
      "metadata": {
        "id": "rBdCdm08AsRP"
      }
    },
    {
      "cell_type": "code",
      "source": [
        "import csv\n",
        "import os\n",
        "import numpy as np\n",
        "import nibabel as nib\n",
        "from skimage.metrics import mean_squared_error as mse, peak_signal_noise_ratio as psnr, structural_similarity as ssim\n",
        "from sklearn.metrics import mean_absolute_error as mae\n",
        "from sklearn.metrics import mean_absolute_error\n",
        "\n",
        "from nilearn.image import resample_to_img\n",
        "\n"
      ],
      "metadata": {
        "id": "Otro-sDGA3ba"
      },
      "execution_count": null,
      "outputs": []
    },
    {
      "cell_type": "code",
      "execution_count": null,
      "metadata": {
        "id": "mfGyPvbXopmC",
        "colab": {
          "base_uri": "https://localhost:8080/"
        },
        "outputId": "4be075b2-5a75-4744-ccbf-ae3e73f89241"
      },
      "outputs": [
        {
          "output_type": "stream",
          "name": "stdout",
          "text": [
            "Average MSE FA: 0.034004120037076396\n",
            "Average PSNR FA: 30.995720191780993\n",
            "Average SSIM FA: 0.6948640114484184\n",
            "Average MSE ADC: 0.005319285478019584\n",
            "Average PSNR ADC: 38.96095239068801\n",
            "Average SSIM ADC: 0.9519492665623541\n",
            "Average MAE FA: 0.07670140275536799\n",
            "Average MAE ADC: 0.013384405978669522\n",
            "Metrics saved to metrics.csv\n"
          ]
        }
      ],
      "source": [
        "# Define the headers for the CSV file\n",
        "headers = ['Patient_ID', 'MSE_FA', 'PSNR_FA', 'SSIM_FA', 'MAE_FA', 'MSE_ADC', 'PSNR_ADC', 'SSIM_ADC', 'MAE_ADC']\n",
        "\n",
        "\n",
        "# Initialize running sums for calculating the averages\n",
        "sum_mse_fa, sum_psnr_fa, sum_ssim_fa = 0, 0, 0\n",
        "sum_mse_adc, sum_psnr_adc, sum_ssim_adc = 0, 0, 0\n",
        "sum_mae_fa, sum_mae_adc = 0, 0\n",
        "\n",
        "\n",
        "# Open the CSV file for writing\n",
        "with open('residual_metrics.csv', 'w', newline='') as csvfile:\n",
        "    csv_writer = csv.writer(csvfile)\n",
        "    csv_writer.writerow(headers)\n",
        "\n",
        "    for patient_id in successful_patients:\n",
        "        patient_folder = os.path.join(root_dir, patient_id)\n",
        "\n",
        "        fa_syn_path = os.path.join(patient_folder, 'FA_syn.nii.gz')\n",
        "        adc_syn_path = os.path.join(patient_folder, 'ADC_syn.nii.gz')\n",
        "        fa_deformed_path = os.path.join(patient_folder, 'FA_deformed.nii.gz')\n",
        "        adc_deformed_path = os.path.join(patient_folder, 'ADC_deformed.nii.gz')\n",
        "\n",
        "        fa_syn_nifti = nib.load(fa_syn_path)\n",
        "        fa_syn = fa_syn_nifti.get_fdata()\n",
        "        adc_syn_nifti = nib.load(adc_syn_path)\n",
        "        adc_syn = adc_syn_nifti.get_fdata()\n",
        "\n",
        "        fa_deformed_nifti = nib.load(fa_deformed_path)\n",
        "        fa_deformed = fa_deformed_nifti.get_fdata()\n",
        "        adc_deformed_nifti = nib.load(adc_deformed_path)\n",
        "        adc_deformed = adc_deformed_nifti.get_fdata()\n",
        "\n",
        "        # Resample the synthesized FA and ADC images to match the deformed FA and ADC images\n",
        "        fa_syn_nifti = resample_to_img(fa_syn_nifti, fa_deformed_nifti)\n",
        "        fa_syn = fa_syn_nifti.get_fdata()\n",
        "        adc_syn_nifti = resample_to_img(adc_syn_nifti, adc_deformed_nifti)\n",
        "        adc_syn = adc_syn_nifti.get_fdata()\n",
        "\n",
        "        mae_fa = mean_absolute_error(fa_syn.flatten(), fa_deformed.flatten())\n",
        "        mse_fa = mse(fa_syn, fa_deformed)\n",
        "        psnr_fa = psnr(fa_syn, fa_deformed, data_range=fa_syn.max() - fa_syn.min())\n",
        "        ssim_fa = ssim(fa_syn, fa_deformed)\n",
        "\n",
        "        mae_adc = mean_absolute_error(adc_syn.flatten(), adc_deformed.flatten())\n",
        "        mse_adc = mse(adc_syn, adc_deformed)\n",
        "        psnr_adc = psnr(adc_syn, adc_deformed, data_range=adc_syn.max() - adc_syn.min())\n",
        "        ssim_adc = ssim(adc_syn, adc_deformed)\n",
        "\n",
        "        # Write the metrics to the CSV file\n",
        "        csv_writer.writerow([patient_id, mse_fa, psnr_fa, ssim_fa, mae_fa, mse_adc, psnr_adc, ssim_adc, mae_adc])\n",
        "\n",
        "        # Update the running sums\n",
        "        sum_mse_fa += mse_fa\n",
        "        sum_psnr_fa += psnr_fa\n",
        "        sum_ssim_fa += ssim_fa\n",
        "        sum_mse_adc += mse_adc\n",
        "        sum_psnr_adc += psnr_adc\n",
        "        sum_ssim_adc += ssim_adc\n",
        "\n",
        "        sum_mae_fa += mae_fa\n",
        "        sum_mae_adc += mae_adc\n",
        "\n",
        "\n",
        "\n",
        "# Calculate the averages\n",
        "num_successful_patients = len(successful_patients)\n",
        "avg_mse_fa = sum_mse_fa / num_successful_patients\n",
        "avg_psnr_fa = sum_psnr_fa / num_successful_patients\n",
        "avg_ssim_fa = sum_ssim_fa / num_successful_patients\n",
        "avg_mse_adc = sum_mse_adc / num_successful_patients\n",
        "avg_psnr_adc = sum_psnr_adc / num_successful_patients\n",
        "avg_ssim_adc = sum_ssim_adc / num_successful_patients\n",
        "avg_mae_fa = sum_mae_fa / num_successful_patients\n",
        "avg_mae_adc = sum_mae_adc / num_successful_patients\n",
        "\n",
        "\n",
        "# Output the averages\n",
        "print(\"Average MSE FA:\", avg_mse_fa)\n",
        "print(\"Average PSNR FA:\", avg_psnr_fa)\n",
        "print(\"Average SSIM FA:\", avg_ssim_fa)\n",
        "print(\"Average MSE ADC:\", avg_mse_adc)\n",
        "print(\"Average PSNR ADC:\", avg_psnr_adc)\n",
        "print(\"Average SSIM ADC:\", avg_ssim_adc)\n",
        "print(\"Average MAE FA:\", avg_mae_fa)\n",
        "print(\"Average MAE ADC:\", avg_mae_adc)\n",
        "\n",
        "\n",
        "print(\"Metrics saved to metrics.csv\")"
      ]
    }
  ],
  "metadata": {
    "accelerator": "GPU",
    "colab": {
      "gpuType": "A100",
      "machine_shape": "hm",
      "provenance": [],
      "include_colab_link": true
    },
    "gpuClass": "standard",
    "kernelspec": {
      "display_name": "Python 3",
      "name": "python3"
    },
    "language_info": {
      "codemirror_mode": {
        "name": "ipython",
        "version": 3
      },
      "file_extension": ".py",
      "mimetype": "text/x-python",
      "name": "python",
      "nbconvert_exporter": "python",
      "pygments_lexer": "ipython3",
      "version": "3.10.11"
    }
  },
  "nbformat": 4,
  "nbformat_minor": 0
}