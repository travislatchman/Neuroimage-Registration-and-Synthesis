{
  "cells": [
    {
      "cell_type": "markdown",
      "metadata": {
        "id": "view-in-github",
        "colab_type": "text"
      },
      "source": [
        "<a href=\"https://colab.research.google.com/github/travislatchman/Neuroimage-Registration-and-Synthesis/blob/main/UNet_Neuro.ipynb\" target=\"_parent\"><img src=\"https://colab.research.google.com/assets/colab-badge.svg\" alt=\"Open In Colab\"/></a>"
      ]
    },
    {
      "cell_type": "markdown",
      "source": [
        "## Installations"
      ],
      "metadata": {
        "id": "Q32lmgVmL-MC"
      }
    },
    {
      "cell_type": "code",
      "execution_count": null,
      "metadata": {
        "colab": {
          "base_uri": "https://localhost:8080/"
        },
        "id": "QW0EUVHtQOqt",
        "outputId": "142cbe27-0ff8-4323-e787-270d1a9904cd"
      },
      "outputs": [
        {
          "output_type": "stream",
          "name": "stdout",
          "text": [
            "Looking in indexes: https://pypi.org/simple, https://us-python.pkg.dev/colab-wheels/public/simple/\n",
            "Collecting nilearn\n",
            "  Downloading nilearn-0.10.1-py3-none-any.whl (10.3 MB)\n",
            "\u001b[2K     \u001b[90m━━━━━━━━━━━━━━━━━━━━━━━━━━━━━━━━━━━━━━━━\u001b[0m \u001b[32m10.3/10.3 MB\u001b[0m \u001b[31m90.2 MB/s\u001b[0m eta \u001b[36m0:00:00\u001b[0m\n",
            "\u001b[?25hRequirement already satisfied: joblib>=1.0.0 in /usr/local/lib/python3.10/dist-packages (from nilearn) (1.2.0)\n",
            "Requirement already satisfied: lxml in /usr/local/lib/python3.10/dist-packages (from nilearn) (4.9.2)\n",
            "Collecting nibabel>=3.2.0 (from nilearn)\n",
            "  Downloading nibabel-5.1.0-py3-none-any.whl (3.3 MB)\n",
            "\u001b[2K     \u001b[90m━━━━━━━━━━━━━━━━━━━━━━━━━━━━━━━━━━━━━━━━\u001b[0m \u001b[32m3.3/3.3 MB\u001b[0m \u001b[31m85.6 MB/s\u001b[0m eta \u001b[36m0:00:00\u001b[0m\n",
            "\u001b[?25hRequirement already satisfied: numpy>=1.19.0 in /usr/local/lib/python3.10/dist-packages (from nilearn) (1.22.4)\n",
            "Requirement already satisfied: packaging in /usr/local/lib/python3.10/dist-packages (from nilearn) (23.1)\n",
            "Requirement already satisfied: pandas>=1.1.5 in /usr/local/lib/python3.10/dist-packages (from nilearn) (1.5.3)\n",
            "Requirement already satisfied: requests>=2.25.0 in /usr/local/lib/python3.10/dist-packages (from nilearn) (2.27.1)\n",
            "Requirement already satisfied: scikit-learn>=1.0.0 in /usr/local/lib/python3.10/dist-packages (from nilearn) (1.2.2)\n",
            "Requirement already satisfied: scipy>=1.6.0 in /usr/local/lib/python3.10/dist-packages (from nilearn) (1.10.1)\n",
            "Requirement already satisfied: python-dateutil>=2.8.1 in /usr/local/lib/python3.10/dist-packages (from pandas>=1.1.5->nilearn) (2.8.2)\n",
            "Requirement already satisfied: pytz>=2020.1 in /usr/local/lib/python3.10/dist-packages (from pandas>=1.1.5->nilearn) (2022.7.1)\n",
            "Requirement already satisfied: urllib3<1.27,>=1.21.1 in /usr/local/lib/python3.10/dist-packages (from requests>=2.25.0->nilearn) (1.26.15)\n",
            "Requirement already satisfied: certifi>=2017.4.17 in /usr/local/lib/python3.10/dist-packages (from requests>=2.25.0->nilearn) (2022.12.7)\n",
            "Requirement already satisfied: charset-normalizer~=2.0.0 in /usr/local/lib/python3.10/dist-packages (from requests>=2.25.0->nilearn) (2.0.12)\n",
            "Requirement already satisfied: idna<4,>=2.5 in /usr/local/lib/python3.10/dist-packages (from requests>=2.25.0->nilearn) (3.4)\n",
            "Requirement already satisfied: threadpoolctl>=2.0.0 in /usr/local/lib/python3.10/dist-packages (from scikit-learn>=1.0.0->nilearn) (3.1.0)\n",
            "Requirement already satisfied: six>=1.5 in /usr/local/lib/python3.10/dist-packages (from python-dateutil>=2.8.1->pandas>=1.1.5->nilearn) (1.16.0)\n",
            "Installing collected packages: nibabel, nilearn\n",
            "  Attempting uninstall: nibabel\n",
            "    Found existing installation: nibabel 3.0.2\n",
            "    Uninstalling nibabel-3.0.2:\n",
            "      Successfully uninstalled nibabel-3.0.2\n",
            "Successfully installed nibabel-5.1.0 nilearn-0.10.1\n",
            "Looking in indexes: https://pypi.org/simple, https://us-python.pkg.dev/colab-wheels/public/simple/\n",
            "Requirement already satisfied: nibabel in /usr/local/lib/python3.10/dist-packages (5.1.0)\n",
            "Requirement already satisfied: numpy>=1.19 in /usr/local/lib/python3.10/dist-packages (from nibabel) (1.22.4)\n",
            "Requirement already satisfied: packaging>=17 in /usr/local/lib/python3.10/dist-packages (from nibabel) (23.1)\n"
          ]
        }
      ],
      "source": [
        "!pip install nilearn\n",
        "!pip install nibabel"
      ]
    },
    {
      "cell_type": "code",
      "execution_count": null,
      "metadata": {
        "colab": {
          "base_uri": "https://localhost:8080/"
        },
        "id": "HBYSQ831xUwZ",
        "outputId": "0cfdfd7c-f2ce-434a-a512-e1544289d777"
      },
      "outputs": [
        {
          "output_type": "stream",
          "name": "stdout",
          "text": [
            "Looking in indexes: https://pypi.org/simple, https://us-python.pkg.dev/colab-wheels/public/simple/\n",
            "Collecting torchviz\n",
            "  Downloading torchviz-0.0.2.tar.gz (4.9 kB)\n",
            "  Preparing metadata (setup.py) ... \u001b[?25l\u001b[?25hdone\n",
            "Requirement already satisfied: torch in /usr/local/lib/python3.10/dist-packages (from torchviz) (2.0.0+cu118)\n",
            "Requirement already satisfied: graphviz in /usr/local/lib/python3.10/dist-packages (from torchviz) (0.20.1)\n",
            "Requirement already satisfied: filelock in /usr/local/lib/python3.10/dist-packages (from torch->torchviz) (3.12.0)\n",
            "Requirement already satisfied: typing-extensions in /usr/local/lib/python3.10/dist-packages (from torch->torchviz) (4.5.0)\n",
            "Requirement already satisfied: sympy in /usr/local/lib/python3.10/dist-packages (from torch->torchviz) (1.11.1)\n",
            "Requirement already satisfied: networkx in /usr/local/lib/python3.10/dist-packages (from torch->torchviz) (3.1)\n",
            "Requirement already satisfied: jinja2 in /usr/local/lib/python3.10/dist-packages (from torch->torchviz) (3.1.2)\n",
            "Requirement already satisfied: triton==2.0.0 in /usr/local/lib/python3.10/dist-packages (from torch->torchviz) (2.0.0)\n",
            "Requirement already satisfied: cmake in /usr/local/lib/python3.10/dist-packages (from triton==2.0.0->torch->torchviz) (3.25.2)\n",
            "Requirement already satisfied: lit in /usr/local/lib/python3.10/dist-packages (from triton==2.0.0->torch->torchviz) (16.0.3)\n",
            "Requirement already satisfied: MarkupSafe>=2.0 in /usr/local/lib/python3.10/dist-packages (from jinja2->torch->torchviz) (2.1.2)\n",
            "Requirement already satisfied: mpmath>=0.19 in /usr/local/lib/python3.10/dist-packages (from sympy->torch->torchviz) (1.3.0)\n",
            "Building wheels for collected packages: torchviz\n",
            "  Building wheel for torchviz (setup.py) ... \u001b[?25l\u001b[?25hdone\n",
            "  Created wheel for torchviz: filename=torchviz-0.0.2-py3-none-any.whl size=4131 sha256=acb9f0edca4df405f1ceb13c9bd5a6c6fc5fa0e9f71f49b0526de5e848e5a919\n",
            "  Stored in directory: /root/.cache/pip/wheels/4c/97/88/a02973217949e0db0c9f4346d154085f4725f99c4f15a87094\n",
            "Successfully built torchviz\n",
            "Installing collected packages: torchviz\n",
            "Successfully installed torchviz-0.0.2\n",
            "Looking in indexes: https://pypi.org/simple, https://us-python.pkg.dev/colab-wheels/public/simple/\n",
            "Collecting onnx\n",
            "  Downloading onnx-1.14.0-cp310-cp310-manylinux_2_17_x86_64.manylinux2014_x86_64.whl (14.6 MB)\n",
            "\u001b[2K     \u001b[90m━━━━━━━━━━━━━━━━━━━━━━━━━━━━━━━━━━━━━━━\u001b[0m \u001b[32m14.6/14.6 MB\u001b[0m \u001b[31m103.0 MB/s\u001b[0m eta \u001b[36m0:00:00\u001b[0m\n",
            "\u001b[?25hRequirement already satisfied: numpy in /usr/local/lib/python3.10/dist-packages (from onnx) (1.22.4)\n",
            "Requirement already satisfied: protobuf>=3.20.2 in /usr/local/lib/python3.10/dist-packages (from onnx) (3.20.3)\n",
            "Requirement already satisfied: typing-extensions>=3.6.2.1 in /usr/local/lib/python3.10/dist-packages (from onnx) (4.5.0)\n",
            "Installing collected packages: onnx\n",
            "Successfully installed onnx-1.14.0\n"
          ]
        }
      ],
      "source": [
        "!pip install torchviz\n",
        "!pip install onnx\n",
        "!pip install torch torchvision\n",
        "!pip install netron\n"
      ]
    },
    {
      "cell_type": "code",
      "execution_count": null,
      "metadata": {
        "id": "lpXCwqlIqWP5"
      },
      "outputs": [],
      "source": [
        "import os\n",
        "import torch\n",
        "import torch.nn as nn\n",
        "import torch.nn.functional as F\n",
        "import torch.optim as optim\n",
        "from torch.utils.data import Dataset\n",
        "from torch.utils.data import DataLoader\n",
        "from torchvision import transforms\n",
        "import nibabel as nib\n",
        "import numpy as np\n",
        "import matplotlib.pyplot as plt\n",
        "from skimage.metrics import mean_squared_error as mse, peak_signal_noise_ratio as psnr, structural_similarity as ssim\n",
        "import csv\n",
        "from torchviz import make_dot\n",
        "import torch.onnx\n",
        "import random\n",
        "import time\n",
        "import copy\n"
      ]
    },
    {
      "cell_type": "code",
      "execution_count": null,
      "metadata": {
        "colab": {
          "base_uri": "https://localhost:8080/"
        },
        "id": "_SsbKTHpQLMU",
        "outputId": "f000f172-f5b3-4c84-b497-8ac9d5bbe699"
      },
      "outputs": [
        {
          "output_type": "stream",
          "name": "stdout",
          "text": [
            "Mounted at /content/drive\n"
          ]
        }
      ],
      "source": [
        "from google.colab import drive\n",
        "drive.mount('/content/drive')"
      ]
    },
    {
      "cell_type": "code",
      "execution_count": null,
      "metadata": {
        "colab": {
          "base_uri": "https://localhost:8080/"
        },
        "id": "R_eHHYokbqGI",
        "outputId": "b1ce90da-55da-4c77-f20f-807b590c7a38"
      },
      "outputs": [
        {
          "output_type": "execute_result",
          "data": {
            "text/plain": [
              "<torch._C.Generator at 0x7fea3201eef0>"
            ]
          },
          "metadata": {},
          "execution_count": 6
        }
      ],
      "source": [
        "seed = 42\n",
        "np.random.seed(seed)\n",
        "torch.manual_seed(seed)"
      ]
    },
    {
      "cell_type": "markdown",
      "metadata": {
        "id": "aR_ahDk4sLBi"
      },
      "source": [
        "## MedIA_Project2_registered folder"
      ]
    },
    {
      "cell_type": "code",
      "execution_count": null,
      "metadata": {
        "id": "446OARZCrVbz"
      },
      "outputs": [],
      "source": [
        "class MedIARegisteredDataset(Dataset):\n",
        "    \"\"\"\n",
        "    A class used to represent a Medical Image Analysis (MedIA) Registered Dataset.\n",
        "\n",
        "    ...\n",
        "\n",
        "    Attributes\n",
        "    ----------\n",
        "    root_dir : str\n",
        "        The path to the root directory containing the patient folders.\n",
        "    transform : callable, optional\n",
        "        An optional transform function to apply to the images.\n",
        "    patient_ids : list\n",
        "        A list of patient IDs used to identify the corresponding patient folders.\n",
        "\n",
        "    Methods\n",
        "    -------\n",
        "    __init__(self, root_dir, patient_ids, transform=None):\n",
        "        Initializes the MedIARegisteredDataset object.\n",
        "    __len__(self):\n",
        "        Returns the number of patients in the dataset.\n",
        "    __getitem__(self, idx):\n",
        "        Loads and returns a tuple of the input images (T1w and T2w) and target images (FA and ADC) for the patient\n",
        "        at the given index.\n",
        "    \"\"\"\n",
        "\n",
        "    def __init__(self, root_dir, patient_ids, transform=None):\n",
        "        \"\"\"\n",
        "        Parameters\n",
        "        ----------\n",
        "        root_dir : str\n",
        "            The path to the root directory containing the patient folders.\n",
        "        patient_ids : list\n",
        "            A list of patient IDs used to identify the corresponding patient folders.\n",
        "        transform : callable, optional\n",
        "            An optional transform function to apply to the images.\n",
        "        \"\"\"\n",
        "        self.root_dir = root_dir\n",
        "        self.transform = transform\n",
        "        self.patient_ids = patient_ids\n",
        "\n",
        "    def __len__(self):\n",
        "        \"\"\"\n",
        "        Determines the number of patients in the dataset.\n",
        "\n",
        "        Returns\n",
        "        -------\n",
        "        int\n",
        "            The number of patients in the dataset.\n",
        "        \"\"\"\n",
        "        return len(self.patient_ids)\n",
        "\n",
        "    def __getitem__(self, idx):\n",
        "        \"\"\"\n",
        "        Loads and returns a tuple of the input images (T1w and T2w) and target images (FA and ADC) for the patient\n",
        "        at the given index.\n",
        "\n",
        "        Parameters\n",
        "        ----------\n",
        "        idx : int\n",
        "            The index of the patient.\n",
        "\n",
        "        Returns\n",
        "        -------\n",
        "        tuple\n",
        "            A tuple containing two torch.Tensor objects:\n",
        "            - input_imgs: a torch.Tensor containing the stacked T1w and T2w images.\n",
        "            - target_imgs: a torch.Tensor containing the stacked FA and ADC images.\n",
        "        \"\"\"\n",
        "        patient_id = self.patient_ids[idx]\n",
        "        patient_folder = os.path.join(self.root_dir, patient_id)\n",
        "\n",
        "        # Load the input images (T1w and T2w)\n",
        "        t1w_path = os.path.join(patient_folder, 'T1w_1mm.nii.gz')\n",
        "        t2w_path = os.path.join(patient_folder, 'T2w_1mm_noalign.nii.gz')\n",
        "        t1w_img = nib.load(t1w_path).get_fdata()\n",
        "        t2w_img = nib.load(t2w_path).get_fdata()\n",
        "\n",
        "        # Stack the input images along the channel dimension\n",
        "        input_imgs = np.stack([t1w_img, t2w_img], axis=0)\n",
        "\n",
        "        # Load the target images (FA and ADC)\n",
        "        fa_path = os.path.join(patient_folder, 'FA_deformed.nii.gz')\n",
        "        adc_path = os.path.join(patient_folder, 'ADC_deformed.nii.gz')\n",
        "        fa_img = nib.load(fa_path).get_fdata()\n",
        "        adc_img = nib.load(adc_path).get_fdata()\n",
        "\n",
        "        # Stack the target images along the channel dimension\n",
        "        target_imgs = np.stack([fa_img, adc_img], axis=0)\n",
        "\n",
        "        if self.transform:\n",
        "            input_imgs, target_imgs = self.transform(input_imgs, target_imgs)\n",
        "\n",
        "        return torch.tensor(input_imgs).float(), torch.tensor(target_imgs).float()"
      ]
    },
    {
      "cell_type": "code",
      "execution_count": null,
      "metadata": {
        "id": "AOcyu8aozqIE"
      },
      "outputs": [],
      "source": [
        "#root_dir = r\"G:\\My Drive\\Project 2 Neuroimage Synthesis\\MedIA_Project2_registered\"\n",
        "root_dir = \"/content/drive/My Drive/Project 2 Neuroimage Synthesis/MedIA_Project2_registered\"\n",
        "\n",
        "# Define patient_ids here\n",
        "patient_ids = [f\"{i:03d}\" for i in range(1, 201) if i != 163]\n"
      ]
    },
    {
      "cell_type": "markdown",
      "metadata": {
        "id": "30f1s7ZBsnN2"
      },
      "source": [
        "## split the patient IDs into training, validation, and testing sets (80/10/10 split)"
      ]
    },
    {
      "cell_type": "code",
      "execution_count": null,
      "metadata": {
        "id": "wRWB5h_issZt"
      },
      "outputs": [],
      "source": [
        "# #patient_ids = [str(i).zfill(3) for i in range(1, 201) if i != 163]\n",
        "rng = np.random.default_rng(seed)\n",
        "rng.shuffle(patient_ids)\n",
        "\n",
        "train_size = int(0.8 * len(patient_ids))\n",
        "val_size = int(0.1 * len(patient_ids))\n",
        "test_size = len(patient_ids) - train_size - val_size\n",
        "\n",
        "train_ids = patient_ids[:train_size]\n",
        "val_ids = patient_ids[train_size:train_size+val_size]\n",
        "test_ids = patient_ids[train_size+val_size:]\n",
        "\n",
        "# separate instances of the dataset for each split\n",
        "train_dataset = MedIARegisteredDataset(root_dir, patient_ids=train_ids)\n",
        "val_dataset = MedIARegisteredDataset(root_dir, patient_ids=val_ids)\n",
        "test_dataset = MedIARegisteredDataset(root_dir, patient_ids=test_ids)\n",
        "\n",
        "# create data loaders for each dataset\n",
        "\n",
        "batch_size = 2\n",
        "\n",
        "train_loader = DataLoader(train_dataset, batch_size=batch_size, shuffle=True)\n",
        "val_loader = DataLoader(val_dataset, batch_size=batch_size, shuffle=False)\n",
        "test_loader = DataLoader(test_dataset, batch_size=batch_size, shuffle=False)\n"
      ]
    },
    {
      "cell_type": "markdown",
      "metadata": {
        "id": "YErk6lRVqiZk"
      },
      "source": [
        "##UNet"
      ]
    },
    {
      "cell_type": "code",
      "execution_count": null,
      "metadata": {
        "id": "O_zD42Lu_tcU"
      },
      "outputs": [],
      "source": [
        "class ConvBlock(nn.Module):\n",
        "    \"\"\"\n",
        "    A class used to represent a convolution block for a 3D U-Net.\n",
        "\n",
        "    ...\n",
        "\n",
        "    Attributes\n",
        "    ----------\n",
        "    conv : torch.nn.Module\n",
        "        The convolution layer.\n",
        "    relu : torch.nn.Module\n",
        "        The ReLU activation function.\n",
        "\n",
        "    Methods\n",
        "    -------\n",
        "    __init__(self, in_channels, out_channels):\n",
        "        Initializes the ConvBlock object.\n",
        "    forward(self, x):\n",
        "        Performs the forward pass of the convolution block.\n",
        "    \"\"\"\n",
        "\n",
        "    def __init__(self, in_channels, out_channels):\n",
        "      \"\"\"\n",
        "        Parameters\n",
        "        ----------\n",
        "        in_channels : int\n",
        "            The number of input channels.\n",
        "        out_channels : int\n",
        "            The number of output channels.\n",
        "        \"\"\"\n",
        "        super(ConvBlock, self).__init__()\n",
        "        self.conv = nn.Conv3d(in_channels, out_channels, kernel_size=3, padding=1)\n",
        "        self.relu = nn.ReLU(inplace=False)\n",
        "\n",
        "    def forward(self, x):\n",
        "        \"\"\"\n",
        "        Performs the forward pass of the convolution block.\n",
        "\n",
        "        Parameters\n",
        "        ----------\n",
        "        x : torch.Tensor\n",
        "            The input tensor.\n",
        "\n",
        "        Returns\n",
        "        -------\n",
        "        torch.Tensor\n",
        "            The output tensor after applying the convolution and the ReLU activation function.\n",
        "        \"\"\"\n",
        "        return self.relu(self.conv(x))\n",
        "\n",
        "\n",
        "class UNet(nn.Module):\n",
        "    \"\"\"\n",
        "    A class used to represent a 3D U-Net.\n",
        "\n",
        "    ...\n",
        "\n",
        "    Attributes\n",
        "    ----------\n",
        "    enc1, enc2, enc3, enc4 : ConvBlock\n",
        "        The encoder blocks.\n",
        "    pool : torch.nn.Module\n",
        "        The max pooling layer.\n",
        "    middle : ConvBlock\n",
        "        The middle block.\n",
        "    up4, up3, up2, up1 : torch.nn.Module\n",
        "        The up-convolution layers.\n",
        "    dec4, dec3, dec2, dec1 : ConvBlock\n",
        "        The decoder blocks.\n",
        "    output : torch.nn.Module\n",
        "        The output convolution layer.\n",
        "\n",
        "    Methods\n",
        "    -------\n",
        "    __init__(self, in_channels, out_channels):\n",
        "        Initializes the UNet object.\n",
        "    forward(self, x):\n",
        "        Performs the forward pass of the U-Net.\n",
        "    up_concat(self, up, encode, decode):\n",
        "        Performs the up-sampling and concatenation operation.\n",
        "    \"\"\"\n",
        "    def __init__(self, in_channels, out_channels):\n",
        "        \"\"\"\n",
        "        Parameters\n",
        "        ----------\n",
        "        in_channels : int\n",
        "            The number of input channels.\n",
        "        out_channels : int\n",
        "            The number of output channels.\n",
        "        \"\"\"\n",
        "        super(UNet, self).__init__()\n",
        "\n",
        "        self.enc1 = ConvBlock(in_channels, 32)\n",
        "        self.enc2 = ConvBlock(32, 64)\n",
        "        self.enc3 = ConvBlock(64, 128)\n",
        "        self.enc4 = ConvBlock(128, 256)\n",
        "\n",
        "        self.pool = nn.MaxPool3d(2)\n",
        "\n",
        "        self.middle = ConvBlock(256, 512)\n",
        "\n",
        "        self.up4 = nn.ConvTranspose3d(512, 256, kernel_size=2, stride=2)\n",
        "        self.dec4 = ConvBlock(512, 256)\n",
        "\n",
        "        self.up3 = nn.ConvTranspose3d(256, 128, kernel_size=2, stride=2)\n",
        "        self.dec3 = ConvBlock(256, 128)\n",
        "\n",
        "        self.up2 = nn.ConvTranspose3d(128, 64, kernel_size=2, stride=2)\n",
        "        self.dec2 = ConvBlock(128, 64)\n",
        "\n",
        "        self.up1 = nn.ConvTranspose3d(64, 32, kernel_size=2, stride=2)\n",
        "        self.dec1 = ConvBlock(64, 32)\n",
        "\n",
        "        self.output = nn.Conv3d(32, out_channels, kernel_size=1)\n",
        "\n",
        "    def forward(self, x):\n",
        "      \"\"\"\n",
        "        Performs the forward pass of the U-Net.\n",
        "\n",
        "        Parameters\n",
        "        ----------\n",
        "        x : torch.Tensor\n",
        "            The input tensor.\n",
        "\n",
        "        Returns\n",
        "        -------\n",
        "        torch.Tensor\n",
        "            The output tensor after passing through the U-Net.\n",
        "        \"\"\"\n",
        "        enc1 = self.enc1(x)\n",
        "        enc2 = self.enc2(self.pool(enc1))\n",
        "        enc3 = self.enc3(self.pool(enc2))\n",
        "        enc4 = self.enc4(self.pool(enc3))\n",
        "\n",
        "        middle = self.middle(self.pool(enc4))\n",
        "\n",
        "        up4 = self.up_concat(self.up4, enc4, middle)\n",
        "        dec4 = self.dec4(up4)\n",
        "\n",
        "        up3 = self.up_concat(self.up3, enc3, dec4)\n",
        "        dec3 = self.dec3(up3)\n",
        "\n",
        "        up2 = self.up_concat(self.up2, enc2, dec3)\n",
        "        dec2 = self.dec2(up2)\n",
        "\n",
        "        up1 = self.up_concat(self.up1, enc1, dec2)\n",
        "        dec1 = self.dec1(up1)\n",
        "\n",
        "        output = self.output(dec1)\n",
        "\n",
        "        return output\n",
        "\n",
        "    def up_concat(self, up, encode, decode):\n",
        "       \"\"\"\n",
        "        Performs the up-sampling and concatenation operation.\n",
        "\n",
        "        Parameters\n",
        "        ----------\n",
        "        up : torch.nn.Module\n",
        "            The up-convolution layer.\n",
        "        encode : torch.Tensor\n",
        "            The output tensor from the corresponding encoder block.\n",
        "        decode : torch.Tensor\n",
        "            The output tensor from the previous decoder block.\n",
        "\n",
        "        Returns\n",
        "        -------\n",
        "        torch.Tensor\n",
        "            The merged tensor after up-sampling and concatenation.\n",
        "        \"\"\"\n",
        "        up = up(decode)\n",
        "        up = F.interpolate(up, size=encode.size()[2:], mode='trilinear', align_corners=False)\n",
        "        merge = torch.cat([encode, up], dim=1)\n",
        "        return merge\n"
      ]
    },
    {
      "cell_type": "code",
      "source": [
        "# Create a model instance\n",
        "model = UNet(in_channels=1, out_channels=2)\n",
        "\n",
        "# Create a dummy input tensor\n",
        "x = torch.randn(1, 1, 64, 64, 64)\n",
        "\n",
        "# Export the model to an ONNX file\n",
        "torch.onnx.export(model, x, \"/content/drive/My Drive/Project 2 Neuroimage Synthesis/Team2/code/Code - Project 2 Data/unet3d.onnx\")"
      ],
      "metadata": {
        "colab": {
          "base_uri": "https://localhost:8080/"
        },
        "id": "dYl8Y3qDS78L",
        "outputId": "166e2738-929d-4c1c-a40d-0411ce266ab3"
      },
      "execution_count": null,
      "outputs": [
        {
          "output_type": "stream",
          "name": "stdout",
          "text": [
            "============= Diagnostic Run torch.onnx.export version 2.0.0+cu118 =============\n",
            "verbose: False, log level: Level.ERROR\n",
            "======================= 0 NONE 0 NOTE 0 WARNING 0 ERROR ========================\n",
            "\n"
          ]
        }
      ]
    },
    {
      "cell_type": "code",
      "source": [
        "device = torch.device(\"cuda:0\" if torch.cuda.is_available() else \"cpu\")\n",
        "\n",
        "# Instantiate model\n",
        "model = UNet(2, 2).to(device)\n",
        "\n",
        "# Define loss function and optimizer\n",
        "criterion = nn.MSELoss()\n",
        "optimizer = torch.optim.Adam(model.parameters(), lr=1e-4)"
      ],
      "metadata": {
        "id": "n_dAuVPj3ZEZ"
      },
      "execution_count": null,
      "outputs": []
    },
    {
      "cell_type": "markdown",
      "metadata": {
        "id": "KPHeeXiPt9dZ"
      },
      "source": [
        "## Train the Model"
      ]
    },
    {
      "cell_type": "code",
      "execution_count": null,
      "metadata": {
        "id": "7u5KlE7Ydc8P"
      },
      "outputs": [],
      "source": [
        "device = torch.device(\"cuda:0\" if torch.cuda.is_available() else \"cpu\")\n",
        "\n",
        "# Instantiate model\n",
        "model = UNet(2, 2).to(device)\n",
        "\n",
        "# Define loss function and optimizer\n",
        "criterion = nn.MSELoss()\n",
        "optimizer = torch.optim.Adam(model.parameters(), lr=1e-4)\n",
        "\n",
        "num_epochs = 100\n",
        "train_losses = []\n",
        "val_losses = []\n",
        "patience = 10\n",
        "early_stopping_counter = 0\n",
        "# model_save_path = \"model.pt\"\n",
        "# model_save_path = r\"G:\\My Drive\\Project 2 Neuroimage Synthesis\\model.pt\"\n",
        "# model_save_path = \"/content/drive/My Drive/Project 2 Neuroimage Synthesis/model.pt\"\n",
        "model_save_path = \"/content/drive/My Drive/Project 2 Neuroimage Synthesis/Team2/code/Code - Project 2 Data/unet.pt\"\n",
        "best_validation_loss = float('inf')\n",
        "\n"
      ]
    },
    {
      "cell_type": "code",
      "execution_count": null,
      "metadata": {
        "colab": {
          "base_uri": "https://localhost:8080/"
        },
        "id": "DePsGVsYt_PE",
        "outputId": "354a9fe1-049e-426d-f4c5-252b328fded4"
      },
      "outputs": [
        {
          "output_type": "stream",
          "name": "stdout",
          "text": [
            "Epoch 1/100, Train Loss: 10.3701, Val Loss: 1.9945, Epoch Duration: 1220.2573 seconds, Total Time: 1220.2578 seconds\n",
            "Epoch 2/100, Train Loss: 1.3925, Val Loss: 0.9439, Epoch Duration: 129.4910 seconds, Total Time: 1349.8435 seconds\n",
            "Epoch 3/100, Train Loss: 0.8151, Val Loss: 0.6636, Epoch Duration: 129.4560 seconds, Total Time: 1479.4026 seconds\n",
            "Epoch 4/100, Train Loss: 0.4843, Val Loss: 0.0232, Epoch Duration: 129.2185 seconds, Total Time: 1608.7228 seconds\n",
            "Epoch 5/100, Train Loss: 0.0168, Val Loss: 0.0159, Epoch Duration: 130.1015 seconds, Total Time: 1738.9285 seconds\n",
            "Epoch 6/100, Train Loss: 0.0154, Val Loss: 0.0153, Epoch Duration: 129.4336 seconds, Total Time: 1868.4747 seconds\n",
            "Epoch 7/100, Train Loss: 0.0149, Val Loss: 0.0149, Epoch Duration: 129.6653 seconds, Total Time: 1998.2429 seconds\n",
            "Epoch 8/100, Train Loss: 0.0146, Val Loss: 0.0146, Epoch Duration: 129.3313 seconds, Total Time: 2127.6777 seconds\n",
            "Epoch 9/100, Train Loss: 0.0143, Val Loss: 0.0143, Epoch Duration: 129.9111 seconds, Total Time: 2257.7013 seconds\n",
            "Epoch 10/100, Train Loss: 0.0140, Val Loss: 0.0140, Epoch Duration: 129.6334 seconds, Total Time: 2387.4411 seconds\n",
            "Epoch 11/100, Train Loss: 0.0137, Val Loss: 0.0137, Epoch Duration: 129.6644 seconds, Total Time: 2517.2185 seconds\n",
            "Epoch 12/100, Train Loss: 0.0134, Val Loss: 0.0134, Epoch Duration: 129.8185 seconds, Total Time: 2647.1474 seconds\n",
            "Epoch 13/100, Train Loss: 0.0131, Val Loss: 0.0131, Epoch Duration: 129.7310 seconds, Total Time: 2776.9861 seconds\n",
            "Epoch 14/100, Train Loss: 0.0128, Val Loss: 0.0128, Epoch Duration: 129.5855 seconds, Total Time: 2906.6798 seconds\n",
            "Epoch 15/100, Train Loss: 0.0125, Val Loss: 0.0125, Epoch Duration: 129.7747 seconds, Total Time: 3036.5615 seconds\n",
            "Epoch 16/100, Train Loss: 0.0123, Val Loss: 0.0122, Epoch Duration: 129.8790 seconds, Total Time: 3166.5640 seconds\n",
            "Epoch 17/100, Train Loss: 0.0120, Val Loss: 0.0120, Epoch Duration: 130.1974 seconds, Total Time: 3296.8787 seconds\n",
            "Epoch 18/100, Train Loss: 0.0117, Val Loss: 0.0117, Epoch Duration: 129.7782 seconds, Total Time: 3426.7664 seconds\n",
            "Epoch 19/100, Train Loss: 0.0115, Val Loss: 0.0114, Epoch Duration: 130.3288 seconds, Total Time: 3557.2071 seconds\n",
            "Epoch 20/100, Train Loss: 0.0112, Val Loss: 0.0112, Epoch Duration: 129.7144 seconds, Total Time: 3687.0348 seconds\n",
            "Epoch 21/100, Train Loss: 0.0110, Val Loss: 0.0111, Epoch Duration: 130.1557 seconds, Total Time: 3817.2972 seconds\n",
            "Epoch 22/100, Train Loss: 0.0107, Val Loss: 0.0108, Epoch Duration: 130.1134 seconds, Total Time: 3947.5227 seconds\n",
            "Epoch 23/100, Train Loss: 0.0105, Val Loss: 0.0105, Epoch Duration: 129.7720 seconds, Total Time: 4077.4029 seconds\n",
            "Epoch 24/100, Train Loss: 0.0103, Val Loss: 0.0103, Epoch Duration: 130.3190 seconds, Total Time: 4207.8291 seconds\n",
            "Epoch 25/100, Train Loss: 0.0101, Val Loss: 0.0101, Epoch Duration: 130.5105 seconds, Total Time: 4338.4465 seconds\n",
            "Epoch 26/100, Train Loss: 0.0099, Val Loss: 0.0099, Epoch Duration: 130.3891 seconds, Total Time: 4468.9480 seconds\n",
            "Epoch 27/100, Train Loss: 0.0097, Val Loss: 0.0097, Epoch Duration: 130.1814 seconds, Total Time: 4599.2443 seconds\n",
            "Epoch 28/100, Train Loss: 0.0095, Val Loss: 0.0095, Epoch Duration: 128.2911 seconds, Total Time: 4727.6379 seconds\n",
            "Epoch 29/100, Train Loss: 0.0094, Val Loss: 0.0095, Epoch Duration: 127.3909 seconds, Total Time: 4855.1355 seconds\n",
            "Epoch 30/100, Train Loss: 0.0093, Val Loss: 0.0092, Epoch Duration: 130.6968 seconds, Total Time: 4985.9453 seconds\n",
            "Epoch 31/100, Train Loss: 0.0092, Val Loss: 0.0091, Epoch Duration: 130.5248 seconds, Total Time: 5116.5755 seconds\n",
            "Epoch 32/100, Train Loss: 0.0090, Val Loss: 0.0090, Epoch Duration: 130.2976 seconds, Total Time: 5246.9784 seconds\n",
            "Epoch 33/100, Train Loss: 0.0089, Val Loss: 0.0090, Epoch Duration: 130.5997 seconds, Total Time: 5377.6849 seconds\n",
            "Epoch 34/100, Train Loss: 0.0088, Val Loss: 0.0087, Epoch Duration: 130.1569 seconds, Total Time: 5507.9474 seconds\n",
            "Epoch 35/100, Train Loss: 0.0088, Val Loss: 0.0087, Epoch Duration: 130.5420 seconds, Total Time: 5638.5981 seconds\n",
            "Epoch 36/100, Train Loss: 0.0087, Val Loss: 0.0086, Epoch Duration: 130.5418 seconds, Total Time: 5769.1401 seconds\n",
            "Epoch 37/100, Train Loss: 0.0085, Val Loss: 0.0085, Epoch Duration: 130.4151 seconds, Total Time: 5899.6624 seconds\n",
            "Epoch 38/100, Train Loss: 0.0084, Val Loss: 0.0083, Epoch Duration: 130.0391 seconds, Total Time: 6029.8092 seconds\n",
            "Epoch 39/100, Train Loss: 0.0083, Val Loss: 0.0082, Epoch Duration: 130.4061 seconds, Total Time: 6160.3240 seconds\n",
            "Epoch 40/100, Train Loss: 0.0082, Val Loss: 0.0081, Epoch Duration: 130.2916 seconds, Total Time: 6290.7233 seconds\n",
            "Epoch 41/100, Train Loss: 0.0080, Val Loss: 0.0082, Epoch Duration: 130.1177 seconds, Total Time: 6420.9495 seconds\n",
            "Epoch 42/100, Train Loss: 0.0080, Val Loss: 0.0079, Epoch Duration: 130.2835 seconds, Total Time: 6551.2333 seconds\n",
            "Epoch 43/100, Train Loss: 0.0078, Val Loss: 0.0078, Epoch Duration: 130.4183 seconds, Total Time: 6681.7669 seconds\n",
            "Epoch 44/100, Train Loss: 0.0077, Val Loss: 0.0079, Epoch Duration: 129.9600 seconds, Total Time: 6811.8362 seconds\n",
            "Epoch 45/100, Train Loss: 0.0077, Val Loss: 0.0077, Epoch Duration: 130.2257 seconds, Total Time: 6942.0622 seconds\n",
            "Epoch 46/100, Train Loss: 0.0076, Val Loss: 0.0075, Epoch Duration: 130.0550 seconds, Total Time: 7072.2295 seconds\n",
            "Epoch 47/100, Train Loss: 0.0074, Val Loss: 0.0074, Epoch Duration: 126.6128 seconds, Total Time: 7198.9509 seconds\n",
            "Epoch 48/100, Train Loss: 0.0073, Val Loss: 0.0074, Epoch Duration: 130.2888 seconds, Total Time: 7329.3507 seconds\n",
            "Epoch 49/100, Train Loss: 0.0073, Val Loss: 0.0076, Epoch Duration: 130.2228 seconds, Total Time: 7459.6916 seconds\n",
            "Epoch 50/100, Train Loss: 0.0072, Val Loss: 0.0073, Epoch Duration: 129.9594 seconds, Total Time: 7589.6513 seconds\n",
            "Epoch 51/100, Train Loss: 0.0071, Val Loss: 0.0070, Epoch Duration: 129.9363 seconds, Total Time: 7719.6992 seconds\n",
            "Epoch 52/100, Train Loss: 0.0070, Val Loss: 0.0069, Epoch Duration: 130.4322 seconds, Total Time: 7850.2603 seconds\n",
            "Epoch 53/100, Train Loss: 0.0069, Val Loss: 0.0069, Epoch Duration: 130.0574 seconds, Total Time: 7980.4326 seconds\n",
            "Epoch 54/100, Train Loss: 0.0070, Val Loss: 0.0068, Epoch Duration: 130.1510 seconds, Total Time: 8110.6959 seconds\n",
            "Epoch 55/100, Train Loss: 0.0067, Val Loss: 0.0066, Epoch Duration: 130.1064 seconds, Total Time: 8240.9245 seconds\n",
            "Epoch 56/100, Train Loss: 0.0067, Val Loss: 0.0066, Epoch Duration: 130.5289 seconds, Total Time: 8371.5621 seconds\n",
            "Epoch 57/100, Train Loss: 0.0066, Val Loss: 0.0065, Epoch Duration: 130.0366 seconds, Total Time: 8501.7035 seconds\n",
            "Epoch 58/100, Train Loss: 0.0065, Val Loss: 0.0064, Epoch Duration: 130.2155 seconds, Total Time: 8632.0268 seconds\n",
            "Epoch 59/100, Train Loss: 0.0064, Val Loss: 0.0063, Epoch Duration: 130.4154 seconds, Total Time: 8762.5489 seconds\n",
            "Epoch 60/100, Train Loss: 0.0062, Val Loss: 0.0066, Epoch Duration: 130.0411 seconds, Total Time: 8892.7013 seconds\n",
            "Epoch 61/100, Train Loss: 0.0062, Val Loss: 0.0062, Epoch Duration: 130.3061 seconds, Total Time: 9023.0077 seconds\n",
            "Epoch 62/100, Train Loss: 0.0061, Val Loss: 0.0061, Epoch Duration: 129.7811 seconds, Total Time: 9152.8987 seconds\n",
            "Epoch 63/100, Train Loss: 0.0060, Val Loss: 0.0060, Epoch Duration: 130.2610 seconds, Total Time: 9283.2764 seconds\n",
            "Epoch 64/100, Train Loss: 0.0059, Val Loss: 0.0060, Epoch Duration: 131.2207 seconds, Total Time: 9414.6026 seconds\n",
            "Epoch 65/100, Train Loss: 0.0059, Val Loss: 0.0058, Epoch Duration: 130.7966 seconds, Total Time: 9545.5151 seconds\n",
            "Epoch 66/100, Train Loss: 0.0058, Val Loss: 0.0057, Epoch Duration: 130.7328 seconds, Total Time: 9676.3673 seconds\n",
            "Epoch 67/100, Train Loss: 0.0057, Val Loss: 0.0058, Epoch Duration: 130.3534 seconds, Total Time: 9806.8298 seconds\n",
            "Epoch 68/100, Train Loss: 0.0057, Val Loss: 0.0056, Epoch Duration: 130.1757 seconds, Total Time: 9937.0064 seconds\n",
            "Epoch 69/100, Train Loss: 0.0056, Val Loss: 0.0056, Epoch Duration: 130.6421 seconds, Total Time: 10067.7725 seconds\n",
            "Epoch 70/100, Train Loss: 0.0055, Val Loss: 0.0056, Epoch Duration: 130.4875 seconds, Total Time: 10198.2604 seconds\n",
            "Epoch 71/100, Train Loss: 0.0055, Val Loss: 0.0055, Epoch Duration: 130.0070 seconds, Total Time: 10328.3817 seconds\n",
            "Epoch 72/100, Train Loss: 0.0055, Val Loss: 0.0056, Epoch Duration: 130.2859 seconds, Total Time: 10458.7793 seconds\n",
            "Epoch 73/100, Train Loss: 0.0054, Val Loss: 0.0054, Epoch Duration: 130.1560 seconds, Total Time: 10588.9355 seconds\n",
            "Epoch 74/100, Train Loss: 0.0054, Val Loss: 0.0054, Epoch Duration: 129.9026 seconds, Total Time: 10718.9439 seconds\n",
            "Epoch 75/100, Train Loss: 0.0054, Val Loss: 0.0054, Epoch Duration: 130.3278 seconds, Total Time: 10849.2723 seconds\n",
            "Epoch 76/100, Train Loss: 0.0054, Val Loss: 0.0053, Epoch Duration: 129.8320 seconds, Total Time: 10979.2082 seconds\n",
            "Epoch 77/100, Train Loss: 0.0053, Val Loss: 0.0054, Epoch Duration: 130.3177 seconds, Total Time: 11109.6321 seconds\n",
            "Epoch 78/100, Train Loss: 0.0052, Val Loss: 0.0052, Epoch Duration: 129.9251 seconds, Total Time: 11239.5583 seconds\n",
            "Epoch 79/100, Train Loss: 0.0052, Val Loss: 0.0052, Epoch Duration: 130.2505 seconds, Total Time: 11369.9214 seconds\n",
            "Epoch 80/100, Train Loss: 0.0052, Val Loss: 0.0053, Epoch Duration: 130.5388 seconds, Total Time: 11500.5699 seconds\n",
            "Epoch 81/100, Train Loss: 0.0051, Val Loss: 0.0052, Epoch Duration: 130.8653 seconds, Total Time: 11631.4356 seconds\n",
            "Epoch 82/100, Train Loss: 0.0051, Val Loss: 0.0052, Epoch Duration: 130.5566 seconds, Total Time: 11762.0971 seconds\n",
            "Epoch 83/100, Train Loss: 0.0051, Val Loss: 0.0051, Epoch Duration: 130.3197 seconds, Total Time: 11892.5246 seconds\n",
            "Epoch 84/100, Train Loss: 0.0051, Val Loss: 0.0052, Epoch Duration: 130.7968 seconds, Total Time: 12023.4417 seconds\n",
            "Epoch 85/100, Train Loss: 0.0050, Val Loss: 0.0050, Epoch Duration: 130.2317 seconds, Total Time: 12153.6742 seconds\n",
            "Epoch 86/100, Train Loss: 0.0050, Val Loss: 0.0051, Epoch Duration: 130.5767 seconds, Total Time: 12284.3607 seconds\n",
            "Epoch 87/100, Train Loss: 0.0051, Val Loss: 0.0050, Epoch Duration: 130.4009 seconds, Total Time: 12414.7620 seconds\n",
            "Epoch 88/100, Train Loss: 0.0049, Val Loss: 0.0049, Epoch Duration: 130.5009 seconds, Total Time: 12545.3763 seconds\n",
            "Epoch 89/100, Train Loss: 0.0048, Val Loss: 0.0050, Epoch Duration: 130.5803 seconds, Total Time: 12676.0663 seconds\n",
            "Epoch 90/100, Train Loss: 0.0048, Val Loss: 0.0048, Epoch Duration: 130.6060 seconds, Total Time: 12806.6726 seconds\n",
            "Epoch 91/100, Train Loss: 0.0048, Val Loss: 0.0048, Epoch Duration: 130.3802 seconds, Total Time: 12937.1637 seconds\n",
            "Epoch 92/100, Train Loss: 0.0047, Val Loss: 0.0047, Epoch Duration: 130.3569 seconds, Total Time: 13067.6329 seconds\n",
            "Epoch 93/100, Train Loss: 0.0046, Val Loss: 0.0047, Epoch Duration: 130.9098 seconds, Total Time: 13198.6615 seconds\n",
            "Epoch 94/100, Train Loss: 0.0046, Val Loss: 0.0047, Epoch Duration: 130.2773 seconds, Total Time: 13329.0557 seconds\n",
            "Epoch 95/100, Train Loss: 0.0045, Val Loss: 0.0045, Epoch Duration: 130.2561 seconds, Total Time: 13459.3127 seconds\n",
            "Epoch 96/100, Train Loss: 0.0044, Val Loss: 0.0044, Epoch Duration: 130.2236 seconds, Total Time: 13589.6435 seconds\n",
            "Epoch 97/100, Train Loss: 0.0044, Val Loss: 0.0045, Epoch Duration: 130.2607 seconds, Total Time: 13720.0106 seconds\n",
            "Epoch 98/100, Train Loss: 0.0043, Val Loss: 0.0043, Epoch Duration: 130.1291 seconds, Total Time: 13850.1402 seconds\n",
            "Epoch 99/100, Train Loss: 0.0041, Val Loss: 0.0041, Epoch Duration: 129.8278 seconds, Total Time: 13980.0826 seconds\n",
            "Epoch 100/100, Train Loss: 0.0041, Val Loss: 0.0042, Epoch Duration: 130.6320 seconds, Total Time: 14110.8221 seconds\n"
          ]
        }
      ],
      "source": [
        "train_losses = []\n",
        "val_losses = []\n",
        "\n",
        "best_validation_loss = float('inf')\n",
        "early_stopping_counter = 0\n",
        "patience = 10\n",
        "\n",
        "start_time = time.time()\n",
        "\n",
        "for epoch in range(num_epochs):\n",
        "    torch.autograd.set_detect_anomaly(True)\n",
        "    model.train()\n",
        "\n",
        "    epoch_start_time = time.time()\n",
        "\n",
        "    train_loss = 0.0\n",
        "    for i, (input_imgs, target_imgs) in enumerate(train_loader):\n",
        "        input_imgs = input_imgs.to(device)\n",
        "        target_imgs = F.interpolate(target_imgs, size=[182, 218, 182], mode='trilinear', align_corners=False)\n",
        "        #target_imgs = F.interpolate(target_imgs, size=(182, 218, 182), mode='trilinear', align_corners=False)\n",
        "        target_imgs = target_imgs.to(device)\n",
        "\n",
        "        optimizer.zero_grad()\n",
        "        outputs = model(input_imgs)\n",
        "        loss = criterion(outputs, target_imgs)\n",
        "        loss.backward()\n",
        "        optimizer.step()\n",
        "\n",
        "        train_loss += loss.item() * input_imgs.size(0)\n",
        "\n",
        "    train_loss /= len(train_loader.dataset)\n",
        "    train_losses.append(train_loss)\n",
        "\n",
        "    model.eval()\n",
        "    val_loss = 0.0\n",
        "    with torch.no_grad():\n",
        "        for inputs, targets in val_loader:\n",
        "            inputs = inputs.to(device)\n",
        "            targets = F.interpolate(targets, size=[182, 218, 182], mode='trilinear', align_corners=False)\n",
        "            targets = targets.to(device)\n",
        "\n",
        "            outputs = model(inputs)\n",
        "            loss = criterion(outputs, targets)\n",
        "            val_loss += loss.item() * inputs.size(0)\n",
        "\n",
        "\n",
        "    val_loss /= len(val_loader.dataset)\n",
        "    val_losses.append(val_loss)\n",
        "\n",
        "    epoch_end_time = time.time()\n",
        "    epoch_duration = epoch_end_time - epoch_start_time\n",
        "    total_training_time = time.time() - start_time\n",
        "\n",
        "    print(f'Epoch {epoch+1}/{num_epochs}, Train Loss: {train_loss:.4f}, Val Loss: {val_loss:.4f}, Epoch Duration: {epoch_duration:.4f} seconds, Total Time: {total_training_time:.4f} seconds')\n",
        "\n",
        "    if val_loss < best_validation_loss:\n",
        "        best_validation_loss = val_loss\n",
        "        early_stopping_counter = 0\n",
        "        torch.save(model.state_dict(), model_save_path)\n",
        "    else:\n",
        "        early_stopping_counter += 1\n",
        "        if early_stopping_counter >= patience:\n",
        "            print(\"Early stopping triggered.\")\n",
        "            break"
      ]
    },
    {
      "cell_type": "markdown",
      "metadata": {
        "id": "tRS-P8cIrAEW"
      },
      "source": [
        "### save model state"
      ]
    },
    {
      "cell_type": "code",
      "execution_count": null,
      "metadata": {
        "id": "TYhTh951YiK5"
      },
      "outputs": [],
      "source": [
        "torch.save({\n",
        "            'epoch': epoch,\n",
        "            'model_state_dict': model.state_dict(),\n",
        "            'optimizer_state_dict': optimizer.state_dict(),\n",
        "            'loss': loss,\n",
        "            }, \"unet.pt\")\n"
      ]
    },
    {
      "cell_type": "markdown",
      "metadata": {
        "id": "eMcgQG-dzPZV"
      },
      "source": [
        "## Train/Val Loss Plot"
      ]
    },
    {
      "cell_type": "code",
      "execution_count": null,
      "metadata": {
        "colab": {
          "base_uri": "https://localhost:8080/",
          "height": 482
        },
        "id": "OBeNThFdpoUd",
        "outputId": "50371cad-787f-49b0-c9f9-ab0729ff3b66"
      },
      "outputs": [
        {
          "output_type": "display_data",
          "data": {
            "text/plain": [
              "<Figure size 1000x500 with 1 Axes>"
            ],
            "image/png": "[encoded data removed]"
          },
          "metadata": {}
        },
        {
          "output_type": "stream",
          "name": "stdout",
          "text": [
            "Total training time: 14138.3713 seconds\n"
          ]
        }
      ],
      "source": [
        "# Plot training and validation loss\n",
        "plt.figure(figsize=(10, 5))\n",
        "plt.plot(train_losses, label='Train Loss')\n",
        "plt.plot(val_losses, label='Val Loss')\n",
        "plt.xlabel('Epochs')\n",
        "plt.ylabel('Loss')\n",
        "plt.legend()\n",
        "#plt.savefig(\"/content/drive/My Drive/Project 2 Neuroimage Synthesis/loss_plot.png\")\n",
        "plt.show()\n",
        "\n",
        "# Total training time\n",
        "end_time = time.time()\n",
        "total_time = end_time - start_time\n",
        "print(f'Total training time: {total_time:.4f} seconds')"
      ]
    },
    {
      "cell_type": "markdown",
      "source": [
        "##Reload Model"
      ],
      "metadata": {
        "id": "YA79CeFcEqdJ"
      }
    },
    {
      "cell_type": "code",
      "source": [
        "# Load the model\n",
        "model_path = \"/content/drive/My Drive/Project 2 Neuroimage Synthesis/unet.pt\"\n",
        "\n",
        "# model_path = \"/content/drive/My Drive/Project 2 Neuroimage Synthesis/Team2/code/Code - unet.pt\"\n",
        "model.load_state_dict(torch.load(model_path))\n",
        "\n",
        "# Switch to eval mode\n",
        "model.eval()\n"
      ],
      "metadata": {
        "id": "5tmJhuDK78Ek",
        "colab": {
          "base_uri": "https://localhost:8080/"
        },
        "outputId": "fcb9e34b-a1cb-411a-ff38-25370a1f580d"
      },
      "execution_count": null,
      "outputs": [
        {
          "output_type": "execute_result",
          "data": {
            "text/plain": [
              "UNet(\n",
              "  (enc1): ConvBlock(\n",
              "    (conv): Conv3d(2, 32, kernel_size=(3, 3, 3), stride=(1, 1, 1), padding=(1, 1, 1))\n",
              "    (relu): ReLU()\n",
              "  )\n",
              "  (enc2): ConvBlock(\n",
              "    (conv): Conv3d(32, 64, kernel_size=(3, 3, 3), stride=(1, 1, 1), padding=(1, 1, 1))\n",
              "    (relu): ReLU()\n",
              "  )\n",
              "  (enc3): ConvBlock(\n",
              "    (conv): Conv3d(64, 128, kernel_size=(3, 3, 3), stride=(1, 1, 1), padding=(1, 1, 1))\n",
              "    (relu): ReLU()\n",
              "  )\n",
              "  (enc4): ConvBlock(\n",
              "    (conv): Conv3d(128, 256, kernel_size=(3, 3, 3), stride=(1, 1, 1), padding=(1, 1, 1))\n",
              "    (relu): ReLU()\n",
              "  )\n",
              "  (pool): MaxPool3d(kernel_size=2, stride=2, padding=0, dilation=1, ceil_mode=False)\n",
              "  (middle): ConvBlock(\n",
              "    (conv): Conv3d(256, 512, kernel_size=(3, 3, 3), stride=(1, 1, 1), padding=(1, 1, 1))\n",
              "    (relu): ReLU()\n",
              "  )\n",
              "  (up4): ConvTranspose3d(512, 256, kernel_size=(2, 2, 2), stride=(2, 2, 2))\n",
              "  (dec4): ConvBlock(\n",
              "    (conv): Conv3d(512, 256, kernel_size=(3, 3, 3), stride=(1, 1, 1), padding=(1, 1, 1))\n",
              "    (relu): ReLU()\n",
              "  )\n",
              "  (up3): ConvTranspose3d(256, 128, kernel_size=(2, 2, 2), stride=(2, 2, 2))\n",
              "  (dec3): ConvBlock(\n",
              "    (conv): Conv3d(256, 128, kernel_size=(3, 3, 3), stride=(1, 1, 1), padding=(1, 1, 1))\n",
              "    (relu): ReLU()\n",
              "  )\n",
              "  (up2): ConvTranspose3d(128, 64, kernel_size=(2, 2, 2), stride=(2, 2, 2))\n",
              "  (dec2): ConvBlock(\n",
              "    (conv): Conv3d(128, 64, kernel_size=(3, 3, 3), stride=(1, 1, 1), padding=(1, 1, 1))\n",
              "    (relu): ReLU()\n",
              "  )\n",
              "  (up1): ConvTranspose3d(64, 32, kernel_size=(2, 2, 2), stride=(2, 2, 2))\n",
              "  (dec1): ConvBlock(\n",
              "    (conv): Conv3d(64, 32, kernel_size=(3, 3, 3), stride=(1, 1, 1), padding=(1, 1, 1))\n",
              "    (relu): ReLU()\n",
              "  )\n",
              "  (output): Conv3d(32, 2, kernel_size=(1, 1, 1), stride=(1, 1, 1))\n",
              ")"
            ]
          },
          "metadata": {},
          "execution_count": 19
        }
      ]
    },
    {
      "cell_type": "markdown",
      "metadata": {
        "id": "lg43aZtYuEHE"
      },
      "source": [
        "## Test - Produce Synthesized Maps of FA and ADC"
      ]
    },
    {
      "cell_type": "code",
      "source": [
        "import torch\n",
        "import numpy as np\n",
        "import os\n",
        "import nibabel as nib\n",
        "from nibabel.processing import resample_to_output\n",
        "import csv\n",
        "from skimage.metrics import structural_similarity as ssim\n",
        "from skimage.metrics import peak_signal_noise_ratio as psnr\n",
        "from skimage.metrics import mean_squared_error as mse"
      ],
      "metadata": {
        "id": "BLSGNE995hep"
      },
      "execution_count": null,
      "outputs": []
    },
    {
      "cell_type": "code",
      "execution_count": null,
      "metadata": {
        "colab": {
          "base_uri": "https://localhost:8080/"
        },
        "id": "j6C0trMP6uNF",
        "outputId": "47e727ae-d7da-4ad8-c6be-f926a84e1cf7"
      },
      "outputs": [
        {
          "output_type": "execute_result",
          "data": {
            "text/plain": [
              "['103',\n",
              " '177',\n",
              " '140',\n",
              " '184',\n",
              " '042',\n",
              " '111',\n",
              " '023',\n",
              " '020',\n",
              " '165',\n",
              " '065',\n",
              " '048',\n",
              " '114',\n",
              " '141',\n",
              " '183',\n",
              " '015',\n",
              " '142',\n",
              " '196',\n",
              " '037',\n",
              " '098',\n",
              " '195',\n",
              " '137']"
            ]
          },
          "metadata": {},
          "execution_count": 11
        }
      ],
      "source": [
        "test_ids"
      ]
    },
    {
      "cell_type": "code",
      "source": [
        "from nilearn.image import resample_img\n",
        "\n",
        "# Define the new voxel size for resampling\n",
        "new_voxel_size = (1.25, 1.25, 1.25)\n",
        "\n",
        "successful_patients = []\n",
        "\n",
        "with torch.no_grad():\n",
        "    for i, (input_imgs, target_imgs) in enumerate(test_loader):\n",
        "        patient_id = test_ids[i]\n",
        "        print(f\"Processing patient {patient_id}\")\n",
        "\n",
        "        # Save the original images for visualization\n",
        "        original_input_imgs = input_imgs.clone()\n",
        "\n",
        "        # Move tensors to the device\n",
        "        input_imgs = input_imgs.to(device)\n",
        "        target_imgs = target_imgs.to(device)\n",
        "\n",
        "        # Generate output maps from input images\n",
        "        outputs = model(input_imgs)\n",
        "\n",
        "        # Check the number of outputs\n",
        "        if len(outputs) == 2:\n",
        "            # Unpack the outputs\n",
        "            fake_fa, fake_adc = outputs\n",
        "\n",
        "            # Convert tensors to Nifti images\n",
        "            fake_fa_nifti = nib.Nifti1Image(fake_fa[0].cpu().numpy(), np.eye(4))\n",
        "            fake_adc_nifti = nib.Nifti1Image(fake_adc[0].cpu().numpy(), np.eye(4))\n",
        "\n",
        "            # Resample the images to the new voxel size\n",
        "            fake_fa_nifti = resample_img(fake_fa_nifti, target_affine=np.diag(new_voxel_size))\n",
        "            fake_adc_nifti = resample_img(fake_adc_nifti, target_affine=np.diag(new_voxel_size))\n",
        "\n",
        "            # Save the synthesized FA and ADC maps\n",
        "            patient_id = test_ids[i]\n",
        "            patient_folder = os.path.join(root_dir, patient_id)\n",
        "\n",
        "            fa_syn_path = os.path.join(patient_folder, 'FA_syn.nii.gz')\n",
        "            adc_syn_path = os.path.join(patient_folder, 'ADC_syn.nii.gz')\n",
        "\n",
        "            nib.save(fake_fa_nifti, fa_syn_path)\n",
        "            nib.save(fake_adc_nifti, adc_syn_path)\n",
        "\n",
        "            # Add the successful patient_id to the list\n",
        "            successful_patients.append(patient_id)\n",
        "        elif len(outputs) == 1:\n",
        "            print(f\"Only one output for patient {test_ids[i]}, skipping.\")\n",
        "        else:\n",
        "            print(f\"Unexpected number of outputs for patient {test_ids[i]}, skipping.\")\n",
        "\n",
        "print(\"Successfully saved patients:\", successful_patients)\n"
      ],
      "metadata": {
        "colab": {
          "base_uri": "https://localhost:8080/"
        },
        "id": "rE3yAHqb6PXa",
        "outputId": "a0f36e10-8d9f-45d3-ea07-0e1dbeec4d60"
      },
      "execution_count": null,
      "outputs": [
        {
          "output_type": "stream",
          "name": "stdout",
          "text": [
            "Processing patient 103\n",
            "Processing patient 177\n",
            "Processing patient 140\n",
            "Processing patient 184\n",
            "Processing patient 042\n",
            "Processing patient 111\n",
            "Processing patient 023\n",
            "Processing patient 020\n",
            "Processing patient 165\n",
            "Processing patient 065\n",
            "Processing patient 048\n",
            "Only one output for patient 048, skipping.\n",
            "Successfully saved patients: ['103', '177', '140', '184', '042', '111', '023', '020', '165', '065']\n"
          ]
        }
      ]
    },
    {
      "cell_type": "markdown",
      "metadata": {
        "id": "RzrTJHVf8i_i"
      },
      "source": [
        "## Save Metrics (MSE, PSNR, SSIM) to a CSV comparing synthesized FA and ADC maps to original FA and ADC for each patient in test set."
      ]
    },
    {
      "cell_type": "code",
      "source": [
        "import csv\n",
        "import os\n",
        "import numpy as np\n",
        "import nibabel as nib\n",
        "from skimage.metrics import mean_squared_error as mse, peak_signal_noise_ratio as psnr, structural_similarity as ssim\n",
        "from sklearn.metrics import mean_absolute_error as mae\n",
        "from sklearn.metrics import mean_absolute_error\n",
        "\n",
        "from nilearn.image import resample_to_img\n"
      ],
      "metadata": {
        "id": "iW-ofTGwqDBF"
      },
      "execution_count": null,
      "outputs": []
    },
    {
      "cell_type": "code",
      "source": [
        "# Define the headers for the CSV file\n",
        "headers = ['Patient_ID', 'MSE_FA', 'PSNR_FA', 'SSIM_FA', 'MAE_FA', 'MSE_ADC', 'PSNR_ADC', 'SSIM_ADC', 'MAE_ADC']\n",
        "\n",
        "\n",
        "# Initialize running sums for calculating the averages\n",
        "sum_mse_fa, sum_psnr_fa, sum_ssim_fa = 0, 0, 0\n",
        "sum_mse_adc, sum_psnr_adc, sum_ssim_adc = 0, 0, 0\n",
        "sum_mae_fa, sum_mae_adc = 0, 0\n",
        "\n",
        "\n",
        "\n",
        "# Open the CSV file for writing\n",
        "with open('attention_metrics.csv', 'w', newline='') as csvfile:\n",
        "    csv_writer = csv.writer(csvfile)\n",
        "    csv_writer.writerow(headers)\n",
        "\n",
        "    for patient_id in successful_patients:\n",
        "        patient_folder = os.path.join(root_dir, patient_id)\n",
        "\n",
        "        fa_syn_path = os.path.join(patient_folder, 'FA_syn.nii.gz')\n",
        "        adc_syn_path = os.path.join(patient_folder, 'ADC_syn.nii.gz')\n",
        "        fa_deformed_path = os.path.join(patient_folder, 'FA_deformed.nii.gz')\n",
        "        adc_deformed_path = os.path.join(patient_folder, 'ADC_deformed.nii.gz')\n",
        "\n",
        "        fa_syn_nifti = nib.load(fa_syn_path)\n",
        "        fa_syn = fa_syn_nifti.get_fdata()\n",
        "        adc_syn_nifti = nib.load(adc_syn_path)\n",
        "        adc_syn = adc_syn_nifti.get_fdata()\n",
        "\n",
        "        fa_deformed_nifti = nib.load(fa_deformed_path)\n",
        "        fa_deformed = fa_deformed_nifti.get_fdata()\n",
        "        adc_deformed_nifti = nib.load(adc_deformed_path)\n",
        "        adc_deformed = adc_deformed_nifti.get_fdata()\n",
        "\n",
        "        # Resample the synthesized FA and ADC images to match the deformed FA and ADC images\n",
        "        fa_syn_nifti = resample_to_img(fa_syn_nifti, fa_deformed_nifti)\n",
        "        fa_syn = fa_syn_nifti.get_fdata()\n",
        "        adc_syn_nifti = resample_to_img(adc_syn_nifti, adc_deformed_nifti)\n",
        "        adc_syn = adc_syn_nifti.get_fdata()\n",
        "\n",
        "        mae_fa = mean_absolute_error(fa_syn.flatten(), fa_deformed.flatten())\n",
        "        mse_fa = mse(fa_syn, fa_deformed)\n",
        "        psnr_fa = psnr(fa_syn, fa_deformed, data_range=fa_syn.max() - fa_syn.min())\n",
        "        ssim_fa = ssim(fa_syn, fa_deformed)\n",
        "\n",
        "        mae_adc = mean_absolute_error(adc_syn.flatten(), adc_deformed.flatten())\n",
        "        mse_adc = mse(adc_syn, adc_deformed)\n",
        "        psnr_adc = psnr(adc_syn, adc_deformed, data_range=adc_syn.max() - adc_syn.min())\n",
        "        ssim_adc = ssim(adc_syn, adc_deformed)\n",
        "\n",
        "        # Write the metrics to the CSV file\n",
        "        csv_writer.writerow([patient_id, mse_fa, psnr_fa, ssim_fa, mae_fa, mse_adc, psnr_adc, ssim_adc, mae_adc])\n",
        "\n",
        "        # Update the running sums\n",
        "        sum_mse_fa += mse_fa\n",
        "        sum_psnr_fa += psnr_fa\n",
        "        sum_ssim_fa += ssim_fa\n",
        "        sum_mse_adc += mse_adc\n",
        "        sum_psnr_adc += psnr_adc\n",
        "        sum_ssim_adc += ssim_adc\n",
        "\n",
        "        sum_mae_fa += mae_fa\n",
        "        sum_mae_adc += mae_adc\n",
        "\n",
        "\n",
        "\n",
        "# Calculate the averages\n",
        "num_successful_patients = len(successful_patients)\n",
        "avg_mse_fa = sum_mse_fa / num_successful_patients\n",
        "avg_psnr_fa = sum_psnr_fa / num_successful_patients\n",
        "avg_ssim_fa = sum_ssim_fa / num_successful_patients\n",
        "avg_mse_adc = sum_mse_adc / num_successful_patients\n",
        "avg_psnr_adc = sum_psnr_adc / num_successful_patients\n",
        "avg_ssim_adc = sum_ssim_adc / num_successful_patients\n",
        "avg_mae_fa = sum_mae_fa / num_successful_patients\n",
        "avg_mae_adc = sum_mae_adc / num_successful_patients\n",
        "\n",
        "\n",
        "# Output the averages\n",
        "print(\"Average MSE FA:\", avg_mse_fa)\n",
        "print(\"Average PSNR FA:\", avg_psnr_fa)\n",
        "print(\"Average SSIM FA:\", avg_ssim_fa)\n",
        "print(\"Average MSE ADC:\", avg_mse_adc)\n",
        "print(\"Average PSNR ADC:\", avg_psnr_adc)\n",
        "print(\"Average SSIM ADC:\", avg_ssim_adc)\n",
        "print(\"Average MAE FA:\", avg_mae_fa)\n",
        "print(\"Average MAE ADC:\", avg_mae_adc)\n",
        "\n",
        "\n",
        "print(\"Metrics saved to metrics.csv\")"
      ],
      "metadata": {
        "colab": {
          "base_uri": "https://localhost:8080/"
        },
        "id": "0mJO3TiurAYV",
        "outputId": "67fe0abb-f27a-4f5b-dfc5-881c4dbc8805"
      },
      "execution_count": null,
      "outputs": [
        {
          "output_type": "stream",
          "name": "stdout",
          "text": [
            "Average MSE FA: 0.032549113481524825\n",
            "Average PSNR FA: 14.829087339733443\n",
            "Average SSIM FA: 0.6989486501670562\n",
            "Average MSE ADC: 0.003323685569761844\n",
            "Average PSNR ADC: 24.715863547509294\n",
            "Average SSIM ADC: 0.9539950789508278\n",
            "Average MAE FA: 0.07557693652318702\n",
            "Average MAE ADC: 0.011682469192816108\n",
            "Metrics saved to metrics.csv\n"
          ]
        }
      ]
    }
  ],
  "metadata": {
    "accelerator": "GPU",
    "colab": {
      "gpuType": "A100",
      "machine_shape": "hm",
      "provenance": [],
      "include_colab_link": true
    },
    "gpuClass": "standard",
    "kernelspec": {
      "display_name": "Python 3",
      "name": "python3"
    },
    "language_info": {
      "codemirror_mode": {
        "name": "ipython",
        "version": 3
      },
      "file_extension": ".py",
      "mimetype": "text/x-python",
      "name": "python",
      "nbconvert_exporter": "python",
      "pygments_lexer": "ipython3",
      "version": "3.10.11"
    }
  },
  "nbformat": 4,
  "nbformat_minor": 0
}